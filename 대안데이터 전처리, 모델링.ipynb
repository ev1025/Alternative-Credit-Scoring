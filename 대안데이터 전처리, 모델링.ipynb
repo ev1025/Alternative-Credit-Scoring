{
 "cells": [
  {
   "cell_type": "code",
   "execution_count": 1,
   "metadata": {},
   "outputs": [],
   "source": [
    "# 오토글루온 설치\n",
    "# conda create -n autogluon python=3.11 -y\n",
    "# conda activate autogluon\n",
    "# conda install ipython ipykernel\n",
    "\n",
    "# python -m ipykernel install --user --name autogluon --display-name \"autogluon\"\n",
    "\n",
    "\n",
    "# pip install -U pip\n",
    "# pip install -U setuptools wheel\n",
    "# pip install autogluon --extra-index-url https://download.pytorch.org/whl/cpu"
   ]
  },
  {
   "cell_type": "code",
   "execution_count": 2,
   "metadata": {},
   "outputs": [],
   "source": [
    "# !pip install xgboost scikit-learn"
   ]
  },
  {
   "cell_type": "code",
   "execution_count": 3,
   "metadata": {},
   "outputs": [
    {
     "data": {
      "text/plain": [
       "(50880, 143)"
      ]
     },
     "execution_count": 3,
     "metadata": {},
     "output_type": "execute_result"
    }
   ],
   "source": [
    "import pandas as pd\n",
    "import copy\n",
    "import numpy as np\n",
    "import seaborn as sns\n",
    "import matplotlib.pyplot as plt\n",
    "\n",
    "\n",
    "plt.rcParams['font.family'] = 'Malgun Gothic'\n",
    "plt.rcParams['axes.unicode_minus'] = False  # 마이너스 기호 깨짐 방지\n",
    "\n",
    "# 대안데이터 불러오기\n",
    "alter_raw = pd.DataFrame()\n",
    "\n",
    "# 대안데이터 7월~11월 합치기\n",
    "for i in range(7,12):\n",
    "    data = pd.read_csv(f'../alternative_data/대안{i}.csv', encoding='cp949')\n",
    "    alter_raw = pd.concat([alter_raw, data], axis=0)\n",
    "\n",
    "alter_raw.shape"
   ]
  },
  {
   "cell_type": "code",
   "execution_count": 4,
   "metadata": {},
   "outputs": [
    {
     "data": {
      "text/html": [
       "<div>\n",
       "<style scoped>\n",
       "    .dataframe tbody tr th:only-of-type {\n",
       "        vertical-align: middle;\n",
       "    }\n",
       "\n",
       "    .dataframe tbody tr th {\n",
       "        vertical-align: top;\n",
       "    }\n",
       "\n",
       "    .dataframe thead th {\n",
       "        text-align: right;\n",
       "    }\n",
       "</style>\n",
       "<table border=\"1\" class=\"dataframe\">\n",
       "  <thead>\n",
       "    <tr style=\"text-align: right;\">\n",
       "      <th></th>\n",
       "      <th>행정동코드</th>\n",
       "      <th>자치구</th>\n",
       "      <th>행정동</th>\n",
       "      <th>성별</th>\n",
       "      <th>연령대</th>\n",
       "      <th>총인구수</th>\n",
       "      <th>1인가구수</th>\n",
       "      <th>야간상주지 변경 미추정 인구 수</th>\n",
       "      <th>야간상주지 변경횟수 평균</th>\n",
       "      <th>야간상주지 변경횟수: 4분위수, 25%</th>\n",
       "      <th>...</th>\n",
       "      <th>배달_브랜드 서비스 사용 미추정 인구수</th>\n",
       "      <th>배달_브랜드 서비스 사용일수</th>\n",
       "      <th>배달_브랜드 서비스 사용일수: 4분위수, 25%</th>\n",
       "      <th>배달_브랜드 서비스 사용일수: 4분위수, 50%</th>\n",
       "      <th>배달_브랜드 서비스 사용일수: 4분위수, 75%</th>\n",
       "      <th>배달_식재료 서비스 사용 미추정 인구수</th>\n",
       "      <th>배달_식재료 서비스 사용일수</th>\n",
       "      <th>배달_식재료 서비스 사용일수: 4분위수, 25%</th>\n",
       "      <th>배달_식재료 서비스 사용일수: 4분위수, 50%</th>\n",
       "      <th>배달_식재료 서비스 사용일수: 4분위수, 75%</th>\n",
       "    </tr>\n",
       "  </thead>\n",
       "  <tbody>\n",
       "    <tr>\n",
       "      <th>0</th>\n",
       "      <td>1101053</td>\n",
       "      <td>종로구</td>\n",
       "      <td>사직동</td>\n",
       "      <td>1</td>\n",
       "      <td>20</td>\n",
       "      <td>206</td>\n",
       "      <td>64</td>\n",
       "      <td>0</td>\n",
       "      <td>2.5</td>\n",
       "      <td>2</td>\n",
       "      <td>...</td>\n",
       "      <td>181</td>\n",
       "      <td>3.5</td>\n",
       "      <td>1.7</td>\n",
       "      <td>3.3</td>\n",
       "      <td>6.7</td>\n",
       "      <td>204</td>\n",
       "      <td>1.7</td>\n",
       "      <td>1.7</td>\n",
       "      <td>1.7</td>\n",
       "      <td>1.7</td>\n",
       "    </tr>\n",
       "    <tr>\n",
       "      <th>1</th>\n",
       "      <td>1101053</td>\n",
       "      <td>종로구</td>\n",
       "      <td>사직동</td>\n",
       "      <td>1</td>\n",
       "      <td>25</td>\n",
       "      <td>341</td>\n",
       "      <td>115</td>\n",
       "      <td>0</td>\n",
       "      <td>2.1</td>\n",
       "      <td>1</td>\n",
       "      <td>...</td>\n",
       "      <td>285</td>\n",
       "      <td>2.8</td>\n",
       "      <td>1.7</td>\n",
       "      <td>1.7</td>\n",
       "      <td>3.3</td>\n",
       "      <td>338</td>\n",
       "      <td>1.7</td>\n",
       "      <td>1.7</td>\n",
       "      <td>1.7</td>\n",
       "      <td>1.7</td>\n",
       "    </tr>\n",
       "    <tr>\n",
       "      <th>2</th>\n",
       "      <td>1101053</td>\n",
       "      <td>종로구</td>\n",
       "      <td>사직동</td>\n",
       "      <td>1</td>\n",
       "      <td>30</td>\n",
       "      <td>402</td>\n",
       "      <td>132</td>\n",
       "      <td>0</td>\n",
       "      <td>1.9</td>\n",
       "      <td>1</td>\n",
       "      <td>...</td>\n",
       "      <td>348</td>\n",
       "      <td>3.3</td>\n",
       "      <td>1.7</td>\n",
       "      <td>1.7</td>\n",
       "      <td>5.0</td>\n",
       "      <td>396</td>\n",
       "      <td>1.7</td>\n",
       "      <td>1.7</td>\n",
       "      <td>1.7</td>\n",
       "      <td>1.7</td>\n",
       "    </tr>\n",
       "    <tr>\n",
       "      <th>3</th>\n",
       "      <td>1101053</td>\n",
       "      <td>종로구</td>\n",
       "      <td>사직동</td>\n",
       "      <td>1</td>\n",
       "      <td>35</td>\n",
       "      <td>408</td>\n",
       "      <td>125</td>\n",
       "      <td>0</td>\n",
       "      <td>1.9</td>\n",
       "      <td>1</td>\n",
       "      <td>...</td>\n",
       "      <td>344</td>\n",
       "      <td>3.2</td>\n",
       "      <td>1.7</td>\n",
       "      <td>3.3</td>\n",
       "      <td>3.3</td>\n",
       "      <td>400</td>\n",
       "      <td>1.7</td>\n",
       "      <td>1.7</td>\n",
       "      <td>1.7</td>\n",
       "      <td>1.7</td>\n",
       "    </tr>\n",
       "    <tr>\n",
       "      <th>4</th>\n",
       "      <td>1101053</td>\n",
       "      <td>종로구</td>\n",
       "      <td>사직동</td>\n",
       "      <td>1</td>\n",
       "      <td>40</td>\n",
       "      <td>399</td>\n",
       "      <td>99</td>\n",
       "      <td>0</td>\n",
       "      <td>1.7</td>\n",
       "      <td>1</td>\n",
       "      <td>...</td>\n",
       "      <td>355</td>\n",
       "      <td>3.0</td>\n",
       "      <td>1.7</td>\n",
       "      <td>1.7</td>\n",
       "      <td>5.0</td>\n",
       "      <td>389</td>\n",
       "      <td>1.7</td>\n",
       "      <td>1.7</td>\n",
       "      <td>1.7</td>\n",
       "      <td>1.7</td>\n",
       "    </tr>\n",
       "  </tbody>\n",
       "</table>\n",
       "<p>5 rows × 143 columns</p>\n",
       "</div>"
      ],
      "text/plain": [
       "     행정동코드  자치구  행정동  성별  연령대  총인구수 1인가구수  야간상주지 변경 미추정 인구 수  야간상주지 변경횟수 평균  \\\n",
       "0  1101053  종로구  사직동   1   20  206    64                   0            2.5   \n",
       "1  1101053  종로구  사직동   1   25  341   115                   0            2.1   \n",
       "2  1101053  종로구  사직동   1   30  402   132                   0            1.9   \n",
       "3  1101053  종로구  사직동   1   35  408   125                   0            1.9   \n",
       "4  1101053  종로구  사직동   1   40  399    99                   0            1.7   \n",
       "\n",
       "   야간상주지 변경횟수: 4분위수, 25%  ...  배달_브랜드 서비스 사용 미추정 인구수  배달_브랜드 서비스 사용일수  \\\n",
       "0                      2  ...                    181              3.5   \n",
       "1                      1  ...                    285              2.8   \n",
       "2                      1  ...                    348              3.3   \n",
       "3                      1  ...                    344              3.2   \n",
       "4                      1  ...                    355              3.0   \n",
       "\n",
       "   배달_브랜드 서비스 사용일수: 4분위수, 25%  배달_브랜드 서비스 사용일수: 4분위수, 50%  \\\n",
       "0                         1.7                         3.3   \n",
       "1                         1.7                         1.7   \n",
       "2                         1.7                         1.7   \n",
       "3                         1.7                         3.3   \n",
       "4                         1.7                         1.7   \n",
       "\n",
       "   배달_브랜드 서비스 사용일수: 4분위수, 75%  배달_식재료 서비스 사용 미추정 인구수  배달_식재료 서비스 사용일수  \\\n",
       "0                         6.7                    204              1.7   \n",
       "1                         3.3                    338              1.7   \n",
       "2                         5.0                    396              1.7   \n",
       "3                         3.3                    400              1.7   \n",
       "4                         5.0                    389              1.7   \n",
       "\n",
       "   배달_식재료 서비스 사용일수: 4분위수, 25%  배달_식재료 서비스 사용일수: 4분위수, 50%  \\\n",
       "0                         1.7                         1.7   \n",
       "1                         1.7                         1.7   \n",
       "2                         1.7                         1.7   \n",
       "3                         1.7                         1.7   \n",
       "4                         1.7                         1.7   \n",
       "\n",
       "   배달_식재료 서비스 사용일수: 4분위수, 75%  \n",
       "0                         1.7  \n",
       "1                         1.7  \n",
       "2                         1.7  \n",
       "3                         1.7  \n",
       "4                         1.7  \n",
       "\n",
       "[5 rows x 143 columns]"
      ]
     },
     "execution_count": 4,
     "metadata": {},
     "output_type": "execute_result"
    }
   ],
   "source": [
    "alter_data = copy.deepcopy(alter_raw)\n",
    "alter_data.head()"
   ]
  },
  {
   "cell_type": "code",
   "execution_count": 5,
   "metadata": {},
   "outputs": [
    {
     "data": {
      "text/html": [
       "<div>\n",
       "<style scoped>\n",
       "    .dataframe tbody tr th:only-of-type {\n",
       "        vertical-align: middle;\n",
       "    }\n",
       "\n",
       "    .dataframe tbody tr th {\n",
       "        vertical-align: top;\n",
       "    }\n",
       "\n",
       "    .dataframe thead th {\n",
       "        text-align: right;\n",
       "    }\n",
       "</style>\n",
       "<table border=\"1\" class=\"dataframe\">\n",
       "  <thead>\n",
       "    <tr style=\"text-align: right;\">\n",
       "      <th></th>\n",
       "      <th>성별</th>\n",
       "      <th>연령대</th>\n",
       "      <th>야간상주지 변경횟수 평균</th>\n",
       "      <th>주간상주지 변경횟수 평균</th>\n",
       "      <th>소액결재 사용횟수 평균</th>\n",
       "      <th>소액결재 사용금액 평균</th>\n",
       "      <th>최근 3개월 내 요금 연체 비율</th>\n",
       "      <th>SNS 사용횟수</th>\n",
       "      <th>데이터 사용량</th>\n",
       "      <th>게임 서비스 사용일수</th>\n",
       "      <th>금융 서비스 사용일수</th>\n",
       "      <th>쇼핑 서비스 사용일수</th>\n",
       "      <th>동영상/방송 서비스 사용일수</th>\n",
       "      <th>유튜브 사용일수</th>\n",
       "      <th>넷플릭스 사용일수</th>\n",
       "      <th>배달 서비스 사용일수</th>\n",
       "      <th>배달_브랜드 서비스 사용일수</th>\n",
       "      <th>배달_식재료 서비스 사용일수</th>\n",
       "    </tr>\n",
       "  </thead>\n",
       "  <tbody>\n",
       "    <tr>\n",
       "      <th>0</th>\n",
       "      <td>1</td>\n",
       "      <td>20</td>\n",
       "      <td>2.5</td>\n",
       "      <td>2.5</td>\n",
       "      <td>0.0</td>\n",
       "      <td>5944.4</td>\n",
       "      <td>6.74</td>\n",
       "      <td>0.0</td>\n",
       "      <td>21.4</td>\n",
       "      <td>56.8</td>\n",
       "      <td>141.3</td>\n",
       "      <td>123.5</td>\n",
       "      <td>56.6</td>\n",
       "      <td>0.3</td>\n",
       "      <td>-0.2</td>\n",
       "      <td>11.0</td>\n",
       "      <td>3.5</td>\n",
       "      <td>1.7</td>\n",
       "    </tr>\n",
       "    <tr>\n",
       "      <th>1</th>\n",
       "      <td>1</td>\n",
       "      <td>25</td>\n",
       "      <td>2.1</td>\n",
       "      <td>2.2</td>\n",
       "      <td>2.6</td>\n",
       "      <td>7777.8</td>\n",
       "      <td>10.85</td>\n",
       "      <td>0.2</td>\n",
       "      <td>19.8</td>\n",
       "      <td>41.3</td>\n",
       "      <td>187.9</td>\n",
       "      <td>174.5</td>\n",
       "      <td>56.0</td>\n",
       "      <td>0.2</td>\n",
       "      <td>-0.2</td>\n",
       "      <td>13.6</td>\n",
       "      <td>2.8</td>\n",
       "      <td>1.7</td>\n",
       "    </tr>\n",
       "    <tr>\n",
       "      <th>2</th>\n",
       "      <td>1</td>\n",
       "      <td>30</td>\n",
       "      <td>1.9</td>\n",
       "      <td>1.8</td>\n",
       "      <td>2.8</td>\n",
       "      <td>5854.2</td>\n",
       "      <td>7.96</td>\n",
       "      <td>0.2</td>\n",
       "      <td>17.1</td>\n",
       "      <td>34.0</td>\n",
       "      <td>188.9</td>\n",
       "      <td>181.4</td>\n",
       "      <td>55.9</td>\n",
       "      <td>0.2</td>\n",
       "      <td>-0.3</td>\n",
       "      <td>13.7</td>\n",
       "      <td>3.3</td>\n",
       "      <td>1.7</td>\n",
       "    </tr>\n",
       "    <tr>\n",
       "      <th>3</th>\n",
       "      <td>1</td>\n",
       "      <td>35</td>\n",
       "      <td>1.9</td>\n",
       "      <td>1.7</td>\n",
       "      <td>1.9</td>\n",
       "      <td>6286.7</td>\n",
       "      <td>8.82</td>\n",
       "      <td>0.1</td>\n",
       "      <td>13.6</td>\n",
       "      <td>33.2</td>\n",
       "      <td>184.8</td>\n",
       "      <td>189.6</td>\n",
       "      <td>54.8</td>\n",
       "      <td>0.1</td>\n",
       "      <td>-0.3</td>\n",
       "      <td>13.8</td>\n",
       "      <td>3.2</td>\n",
       "      <td>1.7</td>\n",
       "    </tr>\n",
       "    <tr>\n",
       "      <th>4</th>\n",
       "      <td>1</td>\n",
       "      <td>40</td>\n",
       "      <td>1.7</td>\n",
       "      <td>1.7</td>\n",
       "      <td>2.8</td>\n",
       "      <td>6098.0</td>\n",
       "      <td>6.53</td>\n",
       "      <td>0.1</td>\n",
       "      <td>11.2</td>\n",
       "      <td>22.5</td>\n",
       "      <td>189.8</td>\n",
       "      <td>199.2</td>\n",
       "      <td>55.2</td>\n",
       "      <td>0.0</td>\n",
       "      <td>-0.3</td>\n",
       "      <td>14.3</td>\n",
       "      <td>3.0</td>\n",
       "      <td>1.7</td>\n",
       "    </tr>\n",
       "  </tbody>\n",
       "</table>\n",
       "</div>"
      ],
      "text/plain": [
       "   성별  연령대  야간상주지 변경횟수 평균  주간상주지 변경횟수 평균  소액결재 사용횟수 평균  소액결재 사용금액 평균  \\\n",
       "0   1   20            2.5            2.5           0.0        5944.4   \n",
       "1   1   25            2.1            2.2           2.6        7777.8   \n",
       "2   1   30            1.9            1.8           2.8        5854.2   \n",
       "3   1   35            1.9            1.7           1.9        6286.7   \n",
       "4   1   40            1.7            1.7           2.8        6098.0   \n",
       "\n",
       "   최근 3개월 내 요금 연체 비율  SNS 사용횟수  데이터 사용량  게임 서비스 사용일수  금융 서비스 사용일수  \\\n",
       "0               6.74       0.0     21.4         56.8        141.3   \n",
       "1              10.85       0.2     19.8         41.3        187.9   \n",
       "2               7.96       0.2     17.1         34.0        188.9   \n",
       "3               8.82       0.1     13.6         33.2        184.8   \n",
       "4               6.53       0.1     11.2         22.5        189.8   \n",
       "\n",
       "   쇼핑 서비스 사용일수  동영상/방송 서비스 사용일수  유튜브 사용일수  넷플릭스 사용일수  배달 서비스 사용일수  \\\n",
       "0        123.5             56.6       0.3       -0.2         11.0   \n",
       "1        174.5             56.0       0.2       -0.2         13.6   \n",
       "2        181.4             55.9       0.2       -0.3         13.7   \n",
       "3        189.6             54.8       0.1       -0.3         13.8   \n",
       "4        199.2             55.2       0.0       -0.3         14.3   \n",
       "\n",
       "   배달_브랜드 서비스 사용일수  배달_식재료 서비스 사용일수  \n",
       "0              3.5              1.7  \n",
       "1              2.8              1.7  \n",
       "2              3.3              1.7  \n",
       "3              3.2              1.7  \n",
       "4              3.0              1.7  "
      ]
     },
     "execution_count": 5,
     "metadata": {},
     "output_type": "execute_result"
    }
   ],
   "source": [
    "# 사용하지 않을 컬럼 제거\n",
    "words_to_drop = ['행정동코드','자치구','행정동','1인가구수', '4분위수',\n",
    "                 '출근', '근무시간', '카카오톡','통화','문자','이동','집 추정','미추정','인구']\n",
    "\n",
    "pattern = '|'.join(words_to_drop)\n",
    "alter_data_clean = alter_data.loc[:, ~alter_data.columns.str.contains(pattern)]\n",
    "alter_data_clean.head()"
   ]
  },
  {
   "cell_type": "code",
   "execution_count": 6,
   "metadata": {},
   "outputs": [
    {
     "data": {
      "text/plain": [
       "0    27829\n",
       "1    23051\n",
       "Name: 연체여부, dtype: int64"
      ]
     },
     "execution_count": 6,
     "metadata": {},
     "output_type": "execute_result"
    }
   ],
   "source": [
    "# alter_data_clean을 복사본으로 생성\n",
    "alter_data_clean = alter_data_clean.copy()\n",
    "\n",
    "# 연체여부 데이터 부족으로 평균 이상, 평균이하에 따라 여부 판단\n",
    "alter_mean = alter_data_clean['최근 3개월 내 요금 연체 비율'].mean()\n",
    "alter_data_clean.loc[:, '최근 3개월 내 요금 연체 비율'] = alter_data_clean['최근 3개월 내 요금 연체 비율'].apply(lambda x: 1 if x > alter_mean else 0)\n",
    "\n",
    "# 컬럼 이름 변경\n",
    "alter_data_clean.rename(columns={'최근 3개월 내 요금 연체 비율': '연체여부'}, inplace=True)\n",
    "\n",
    "# 연체여부 비율 확인\n",
    "alter_data_clean['연체여부'].value_counts()"
   ]
  },
  {
   "cell_type": "code",
   "execution_count": 7,
   "metadata": {},
   "outputs": [
    {
     "data": {
      "text/html": [
       "<div>\n",
       "<style scoped>\n",
       "    .dataframe tbody tr th:only-of-type {\n",
       "        vertical-align: middle;\n",
       "    }\n",
       "\n",
       "    .dataframe tbody tr th {\n",
       "        vertical-align: top;\n",
       "    }\n",
       "\n",
       "    .dataframe thead th {\n",
       "        text-align: right;\n",
       "    }\n",
       "</style>\n",
       "<table border=\"1\" class=\"dataframe\">\n",
       "  <thead>\n",
       "    <tr style=\"text-align: right;\">\n",
       "      <th></th>\n",
       "      <th>연령대</th>\n",
       "      <th>야간상주지 변경횟수 평균</th>\n",
       "      <th>주간상주지 변경횟수 평균</th>\n",
       "      <th>소액결재 사용횟수 평균</th>\n",
       "      <th>소액결재 사용금액 평균</th>\n",
       "      <th>연체여부</th>\n",
       "      <th>SNS 사용횟수</th>\n",
       "      <th>데이터 사용량</th>\n",
       "      <th>게임 서비스 사용일수</th>\n",
       "      <th>금융 서비스 사용일수</th>\n",
       "      <th>쇼핑 서비스 사용일수</th>\n",
       "      <th>동영상/방송 서비스 사용일수</th>\n",
       "      <th>유튜브 사용일수</th>\n",
       "      <th>넷플릭스 사용일수</th>\n",
       "      <th>배달 서비스 사용일수</th>\n",
       "      <th>배달_브랜드 서비스 사용일수</th>\n",
       "      <th>배달_식재료 서비스 사용일수</th>\n",
       "      <th>남성</th>\n",
       "      <th>여성</th>\n",
       "    </tr>\n",
       "  </thead>\n",
       "  <tbody>\n",
       "    <tr>\n",
       "      <th>0</th>\n",
       "      <td>20</td>\n",
       "      <td>2.5</td>\n",
       "      <td>2.5</td>\n",
       "      <td>0.0</td>\n",
       "      <td>5944.4</td>\n",
       "      <td>0</td>\n",
       "      <td>0.0</td>\n",
       "      <td>21.4</td>\n",
       "      <td>56.8</td>\n",
       "      <td>141.3</td>\n",
       "      <td>123.5</td>\n",
       "      <td>56.6</td>\n",
       "      <td>0.3</td>\n",
       "      <td>-0.2</td>\n",
       "      <td>11.0</td>\n",
       "      <td>3.5</td>\n",
       "      <td>1.7</td>\n",
       "      <td>1</td>\n",
       "      <td>0</td>\n",
       "    </tr>\n",
       "    <tr>\n",
       "      <th>1</th>\n",
       "      <td>25</td>\n",
       "      <td>2.1</td>\n",
       "      <td>2.2</td>\n",
       "      <td>2.6</td>\n",
       "      <td>7777.8</td>\n",
       "      <td>1</td>\n",
       "      <td>0.2</td>\n",
       "      <td>19.8</td>\n",
       "      <td>41.3</td>\n",
       "      <td>187.9</td>\n",
       "      <td>174.5</td>\n",
       "      <td>56.0</td>\n",
       "      <td>0.2</td>\n",
       "      <td>-0.2</td>\n",
       "      <td>13.6</td>\n",
       "      <td>2.8</td>\n",
       "      <td>1.7</td>\n",
       "      <td>1</td>\n",
       "      <td>0</td>\n",
       "    </tr>\n",
       "    <tr>\n",
       "      <th>2</th>\n",
       "      <td>30</td>\n",
       "      <td>1.9</td>\n",
       "      <td>1.8</td>\n",
       "      <td>2.8</td>\n",
       "      <td>5854.2</td>\n",
       "      <td>1</td>\n",
       "      <td>0.2</td>\n",
       "      <td>17.1</td>\n",
       "      <td>34.0</td>\n",
       "      <td>188.9</td>\n",
       "      <td>181.4</td>\n",
       "      <td>55.9</td>\n",
       "      <td>0.2</td>\n",
       "      <td>-0.3</td>\n",
       "      <td>13.7</td>\n",
       "      <td>3.3</td>\n",
       "      <td>1.7</td>\n",
       "      <td>1</td>\n",
       "      <td>0</td>\n",
       "    </tr>\n",
       "    <tr>\n",
       "      <th>3</th>\n",
       "      <td>35</td>\n",
       "      <td>1.9</td>\n",
       "      <td>1.7</td>\n",
       "      <td>1.9</td>\n",
       "      <td>6286.7</td>\n",
       "      <td>1</td>\n",
       "      <td>0.1</td>\n",
       "      <td>13.6</td>\n",
       "      <td>33.2</td>\n",
       "      <td>184.8</td>\n",
       "      <td>189.6</td>\n",
       "      <td>54.8</td>\n",
       "      <td>0.1</td>\n",
       "      <td>-0.3</td>\n",
       "      <td>13.8</td>\n",
       "      <td>3.2</td>\n",
       "      <td>1.7</td>\n",
       "      <td>1</td>\n",
       "      <td>0</td>\n",
       "    </tr>\n",
       "    <tr>\n",
       "      <th>4</th>\n",
       "      <td>40</td>\n",
       "      <td>1.7</td>\n",
       "      <td>1.7</td>\n",
       "      <td>2.8</td>\n",
       "      <td>6098.0</td>\n",
       "      <td>0</td>\n",
       "      <td>0.1</td>\n",
       "      <td>11.2</td>\n",
       "      <td>22.5</td>\n",
       "      <td>189.8</td>\n",
       "      <td>199.2</td>\n",
       "      <td>55.2</td>\n",
       "      <td>0.0</td>\n",
       "      <td>-0.3</td>\n",
       "      <td>14.3</td>\n",
       "      <td>3.0</td>\n",
       "      <td>1.7</td>\n",
       "      <td>1</td>\n",
       "      <td>0</td>\n",
       "    </tr>\n",
       "  </tbody>\n",
       "</table>\n",
       "</div>"
      ],
      "text/plain": [
       "   연령대  야간상주지 변경횟수 평균  주간상주지 변경횟수 평균  소액결재 사용횟수 평균  소액결재 사용금액 평균  연체여부  \\\n",
       "0   20            2.5            2.5           0.0        5944.4     0   \n",
       "1   25            2.1            2.2           2.6        7777.8     1   \n",
       "2   30            1.9            1.8           2.8        5854.2     1   \n",
       "3   35            1.9            1.7           1.9        6286.7     1   \n",
       "4   40            1.7            1.7           2.8        6098.0     0   \n",
       "\n",
       "   SNS 사용횟수  데이터 사용량  게임 서비스 사용일수  금융 서비스 사용일수  쇼핑 서비스 사용일수  동영상/방송 서비스 사용일수  \\\n",
       "0       0.0     21.4         56.8        141.3        123.5             56.6   \n",
       "1       0.2     19.8         41.3        187.9        174.5             56.0   \n",
       "2       0.2     17.1         34.0        188.9        181.4             55.9   \n",
       "3       0.1     13.6         33.2        184.8        189.6             54.8   \n",
       "4       0.1     11.2         22.5        189.8        199.2             55.2   \n",
       "\n",
       "   유튜브 사용일수  넷플릭스 사용일수  배달 서비스 사용일수  배달_브랜드 서비스 사용일수  배달_식재료 서비스 사용일수  남성  여성  \n",
       "0       0.3       -0.2         11.0              3.5              1.7   1   0  \n",
       "1       0.2       -0.2         13.6              2.8              1.7   1   0  \n",
       "2       0.2       -0.3         13.7              3.3              1.7   1   0  \n",
       "3       0.1       -0.3         13.8              3.2              1.7   1   0  \n",
       "4       0.0       -0.3         14.3              3.0              1.7   1   0  "
      ]
     },
     "execution_count": 7,
     "metadata": {},
     "output_type": "execute_result"
    }
   ],
   "source": [
    "# 성별 원핫 인코딩\n",
    "gender = pd.get_dummies(alter_data_clean['성별'])\n",
    "alter_data_clean = alter_data_clean.drop('성별', axis=1)\n",
    "alter_data_clean = pd.concat([alter_data_clean,gender], axis=1)\n",
    "\n",
    "alter_data_clean.rename(columns={1: '남성',2:'여성'}, inplace=True)\n",
    "alter_data_clean.head()"
   ]
  },
  {
   "cell_type": "code",
   "execution_count": 8,
   "metadata": {},
   "outputs": [
    {
     "data": {
      "text/html": [
       "<div>\n",
       "<style scoped>\n",
       "    .dataframe tbody tr th:only-of-type {\n",
       "        vertical-align: middle;\n",
       "    }\n",
       "\n",
       "    .dataframe tbody tr th {\n",
       "        vertical-align: top;\n",
       "    }\n",
       "\n",
       "    .dataframe thead th {\n",
       "        text-align: right;\n",
       "    }\n",
       "</style>\n",
       "<table border=\"1\" class=\"dataframe\">\n",
       "  <thead>\n",
       "    <tr style=\"text-align: right;\">\n",
       "      <th></th>\n",
       "      <th>야간상주지 변경횟수 평균</th>\n",
       "      <th>주간상주지 변경횟수 평균</th>\n",
       "      <th>소액결재 사용횟수 평균</th>\n",
       "      <th>소액결재 사용금액 평균</th>\n",
       "      <th>연체여부</th>\n",
       "      <th>SNS 사용횟수</th>\n",
       "      <th>데이터 사용량</th>\n",
       "      <th>게임 서비스 사용일수</th>\n",
       "      <th>금융 서비스 사용일수</th>\n",
       "      <th>쇼핑 서비스 사용일수</th>\n",
       "      <th>...</th>\n",
       "      <th>배달_브랜드 서비스 사용일수</th>\n",
       "      <th>배달_식재료 서비스 사용일수</th>\n",
       "      <th>남성</th>\n",
       "      <th>여성</th>\n",
       "      <th>20대</th>\n",
       "      <th>30대</th>\n",
       "      <th>40대</th>\n",
       "      <th>50대</th>\n",
       "      <th>60대</th>\n",
       "      <th>70대</th>\n",
       "    </tr>\n",
       "  </thead>\n",
       "  <tbody>\n",
       "    <tr>\n",
       "      <th>0</th>\n",
       "      <td>2.5</td>\n",
       "      <td>2.5</td>\n",
       "      <td>0.0</td>\n",
       "      <td>5944.4</td>\n",
       "      <td>0</td>\n",
       "      <td>0.0</td>\n",
       "      <td>21.4</td>\n",
       "      <td>56.8</td>\n",
       "      <td>141.3</td>\n",
       "      <td>123.5</td>\n",
       "      <td>...</td>\n",
       "      <td>3.5</td>\n",
       "      <td>1.7</td>\n",
       "      <td>1</td>\n",
       "      <td>0</td>\n",
       "      <td>1</td>\n",
       "      <td>0</td>\n",
       "      <td>0</td>\n",
       "      <td>0</td>\n",
       "      <td>0</td>\n",
       "      <td>0</td>\n",
       "    </tr>\n",
       "    <tr>\n",
       "      <th>1</th>\n",
       "      <td>2.1</td>\n",
       "      <td>2.2</td>\n",
       "      <td>2.6</td>\n",
       "      <td>7777.8</td>\n",
       "      <td>1</td>\n",
       "      <td>0.2</td>\n",
       "      <td>19.8</td>\n",
       "      <td>41.3</td>\n",
       "      <td>187.9</td>\n",
       "      <td>174.5</td>\n",
       "      <td>...</td>\n",
       "      <td>2.8</td>\n",
       "      <td>1.7</td>\n",
       "      <td>1</td>\n",
       "      <td>0</td>\n",
       "      <td>1</td>\n",
       "      <td>0</td>\n",
       "      <td>0</td>\n",
       "      <td>0</td>\n",
       "      <td>0</td>\n",
       "      <td>0</td>\n",
       "    </tr>\n",
       "    <tr>\n",
       "      <th>2</th>\n",
       "      <td>1.9</td>\n",
       "      <td>1.8</td>\n",
       "      <td>2.8</td>\n",
       "      <td>5854.2</td>\n",
       "      <td>1</td>\n",
       "      <td>0.2</td>\n",
       "      <td>17.1</td>\n",
       "      <td>34.0</td>\n",
       "      <td>188.9</td>\n",
       "      <td>181.4</td>\n",
       "      <td>...</td>\n",
       "      <td>3.3</td>\n",
       "      <td>1.7</td>\n",
       "      <td>1</td>\n",
       "      <td>0</td>\n",
       "      <td>0</td>\n",
       "      <td>1</td>\n",
       "      <td>0</td>\n",
       "      <td>0</td>\n",
       "      <td>0</td>\n",
       "      <td>0</td>\n",
       "    </tr>\n",
       "    <tr>\n",
       "      <th>3</th>\n",
       "      <td>1.9</td>\n",
       "      <td>1.7</td>\n",
       "      <td>1.9</td>\n",
       "      <td>6286.7</td>\n",
       "      <td>1</td>\n",
       "      <td>0.1</td>\n",
       "      <td>13.6</td>\n",
       "      <td>33.2</td>\n",
       "      <td>184.8</td>\n",
       "      <td>189.6</td>\n",
       "      <td>...</td>\n",
       "      <td>3.2</td>\n",
       "      <td>1.7</td>\n",
       "      <td>1</td>\n",
       "      <td>0</td>\n",
       "      <td>0</td>\n",
       "      <td>1</td>\n",
       "      <td>0</td>\n",
       "      <td>0</td>\n",
       "      <td>0</td>\n",
       "      <td>0</td>\n",
       "    </tr>\n",
       "    <tr>\n",
       "      <th>4</th>\n",
       "      <td>1.7</td>\n",
       "      <td>1.7</td>\n",
       "      <td>2.8</td>\n",
       "      <td>6098.0</td>\n",
       "      <td>0</td>\n",
       "      <td>0.1</td>\n",
       "      <td>11.2</td>\n",
       "      <td>22.5</td>\n",
       "      <td>189.8</td>\n",
       "      <td>199.2</td>\n",
       "      <td>...</td>\n",
       "      <td>3.0</td>\n",
       "      <td>1.7</td>\n",
       "      <td>1</td>\n",
       "      <td>0</td>\n",
       "      <td>0</td>\n",
       "      <td>0</td>\n",
       "      <td>1</td>\n",
       "      <td>0</td>\n",
       "      <td>0</td>\n",
       "      <td>0</td>\n",
       "    </tr>\n",
       "  </tbody>\n",
       "</table>\n",
       "<p>5 rows × 24 columns</p>\n",
       "</div>"
      ],
      "text/plain": [
       "   야간상주지 변경횟수 평균  주간상주지 변경횟수 평균  소액결재 사용횟수 평균  소액결재 사용금액 평균  연체여부  SNS 사용횟수  \\\n",
       "0            2.5            2.5           0.0        5944.4     0       0.0   \n",
       "1            2.1            2.2           2.6        7777.8     1       0.2   \n",
       "2            1.9            1.8           2.8        5854.2     1       0.2   \n",
       "3            1.9            1.7           1.9        6286.7     1       0.1   \n",
       "4            1.7            1.7           2.8        6098.0     0       0.1   \n",
       "\n",
       "   데이터 사용량  게임 서비스 사용일수  금융 서비스 사용일수  쇼핑 서비스 사용일수  ...  배달_브랜드 서비스 사용일수  \\\n",
       "0     21.4         56.8        141.3        123.5  ...              3.5   \n",
       "1     19.8         41.3        187.9        174.5  ...              2.8   \n",
       "2     17.1         34.0        188.9        181.4  ...              3.3   \n",
       "3     13.6         33.2        184.8        189.6  ...              3.2   \n",
       "4     11.2         22.5        189.8        199.2  ...              3.0   \n",
       "\n",
       "   배달_식재료 서비스 사용일수  남성  여성  20대  30대  40대  50대  60대  70대  \n",
       "0              1.7   1   0    1    0    0    0    0    0  \n",
       "1              1.7   1   0    1    0    0    0    0    0  \n",
       "2              1.7   1   0    0    1    0    0    0    0  \n",
       "3              1.7   1   0    0    1    0    0    0    0  \n",
       "4              1.7   1   0    0    0    1    0    0    0  \n",
       "\n",
       "[5 rows x 24 columns]"
      ]
     },
     "execution_count": 8,
     "metadata": {},
     "output_type": "execute_result"
    }
   ],
   "source": [
    "# 나이 원핫 인코딩\n",
    "alter_data_clean['연령대'] = alter_data_clean['연령대'].astype(str).str[0].astype(int)\n",
    "alter_data_clean['연령대'].head()\n",
    "\n",
    "age_df = pd.get_dummies(alter_data_clean['연령대'])\n",
    "alter_data_clean = alter_data_clean.drop('연령대', axis=1)\n",
    "alter_data_clean = pd.concat([alter_data_clean,age_df], axis=1)\n",
    "\n",
    "age_keys = [2,3,4,5,6,7]\n",
    "age_values = ['20대','30대','40대','50대','60대','70대']\n",
    "\n",
    "alter_data_clean.rename(columns=dict(zip(age_keys,age_values)), inplace=True)\n",
    "alter_data_clean.head()"
   ]
  },
  {
   "cell_type": "code",
   "execution_count": 9,
   "metadata": {},
   "outputs": [
    {
     "data": {
      "text/html": [
       "<div>\n",
       "<style scoped>\n",
       "    .dataframe tbody tr th:only-of-type {\n",
       "        vertical-align: middle;\n",
       "    }\n",
       "\n",
       "    .dataframe tbody tr th {\n",
       "        vertical-align: top;\n",
       "    }\n",
       "\n",
       "    .dataframe thead th {\n",
       "        text-align: right;\n",
       "    }\n",
       "</style>\n",
       "<table border=\"1\" class=\"dataframe\">\n",
       "  <thead>\n",
       "    <tr style=\"text-align: right;\">\n",
       "      <th></th>\n",
       "      <th>야간상주지 변경횟수 평균</th>\n",
       "      <th>주간상주지 변경횟수 평균</th>\n",
       "      <th>소액결재 사용횟수 평균</th>\n",
       "      <th>소액결재 사용금액 평균</th>\n",
       "      <th>SNS 사용횟수</th>\n",
       "      <th>데이터 사용량</th>\n",
       "      <th>게임 서비스 사용일수</th>\n",
       "      <th>금융 서비스 사용일수</th>\n",
       "      <th>쇼핑 서비스 사용일수</th>\n",
       "      <th>동영상/방송 서비스 사용일수</th>\n",
       "      <th>...</th>\n",
       "      <th>배달_식재료 서비스 사용일수</th>\n",
       "      <th>남성</th>\n",
       "      <th>여성</th>\n",
       "      <th>20대</th>\n",
       "      <th>30대</th>\n",
       "      <th>40대</th>\n",
       "      <th>50대</th>\n",
       "      <th>60대</th>\n",
       "      <th>70대</th>\n",
       "      <th>연체여부</th>\n",
       "    </tr>\n",
       "  </thead>\n",
       "  <tbody>\n",
       "    <tr>\n",
       "      <th>0</th>\n",
       "      <td>2.5</td>\n",
       "      <td>2.5</td>\n",
       "      <td>0.0</td>\n",
       "      <td>5944.4</td>\n",
       "      <td>0.0</td>\n",
       "      <td>21.4</td>\n",
       "      <td>56.8</td>\n",
       "      <td>141.3</td>\n",
       "      <td>123.5</td>\n",
       "      <td>56.6</td>\n",
       "      <td>...</td>\n",
       "      <td>1.7</td>\n",
       "      <td>1</td>\n",
       "      <td>0</td>\n",
       "      <td>1</td>\n",
       "      <td>0</td>\n",
       "      <td>0</td>\n",
       "      <td>0</td>\n",
       "      <td>0</td>\n",
       "      <td>0</td>\n",
       "      <td>0</td>\n",
       "    </tr>\n",
       "    <tr>\n",
       "      <th>1</th>\n",
       "      <td>2.1</td>\n",
       "      <td>2.2</td>\n",
       "      <td>2.6</td>\n",
       "      <td>7777.8</td>\n",
       "      <td>0.2</td>\n",
       "      <td>19.8</td>\n",
       "      <td>41.3</td>\n",
       "      <td>187.9</td>\n",
       "      <td>174.5</td>\n",
       "      <td>56.0</td>\n",
       "      <td>...</td>\n",
       "      <td>1.7</td>\n",
       "      <td>1</td>\n",
       "      <td>0</td>\n",
       "      <td>1</td>\n",
       "      <td>0</td>\n",
       "      <td>0</td>\n",
       "      <td>0</td>\n",
       "      <td>0</td>\n",
       "      <td>0</td>\n",
       "      <td>1</td>\n",
       "    </tr>\n",
       "    <tr>\n",
       "      <th>2</th>\n",
       "      <td>1.9</td>\n",
       "      <td>1.8</td>\n",
       "      <td>2.8</td>\n",
       "      <td>5854.2</td>\n",
       "      <td>0.2</td>\n",
       "      <td>17.1</td>\n",
       "      <td>34.0</td>\n",
       "      <td>188.9</td>\n",
       "      <td>181.4</td>\n",
       "      <td>55.9</td>\n",
       "      <td>...</td>\n",
       "      <td>1.7</td>\n",
       "      <td>1</td>\n",
       "      <td>0</td>\n",
       "      <td>0</td>\n",
       "      <td>1</td>\n",
       "      <td>0</td>\n",
       "      <td>0</td>\n",
       "      <td>0</td>\n",
       "      <td>0</td>\n",
       "      <td>1</td>\n",
       "    </tr>\n",
       "    <tr>\n",
       "      <th>3</th>\n",
       "      <td>1.9</td>\n",
       "      <td>1.7</td>\n",
       "      <td>1.9</td>\n",
       "      <td>6286.7</td>\n",
       "      <td>0.1</td>\n",
       "      <td>13.6</td>\n",
       "      <td>33.2</td>\n",
       "      <td>184.8</td>\n",
       "      <td>189.6</td>\n",
       "      <td>54.8</td>\n",
       "      <td>...</td>\n",
       "      <td>1.7</td>\n",
       "      <td>1</td>\n",
       "      <td>0</td>\n",
       "      <td>0</td>\n",
       "      <td>1</td>\n",
       "      <td>0</td>\n",
       "      <td>0</td>\n",
       "      <td>0</td>\n",
       "      <td>0</td>\n",
       "      <td>1</td>\n",
       "    </tr>\n",
       "    <tr>\n",
       "      <th>4</th>\n",
       "      <td>1.7</td>\n",
       "      <td>1.7</td>\n",
       "      <td>2.8</td>\n",
       "      <td>6098.0</td>\n",
       "      <td>0.1</td>\n",
       "      <td>11.2</td>\n",
       "      <td>22.5</td>\n",
       "      <td>189.8</td>\n",
       "      <td>199.2</td>\n",
       "      <td>55.2</td>\n",
       "      <td>...</td>\n",
       "      <td>1.7</td>\n",
       "      <td>1</td>\n",
       "      <td>0</td>\n",
       "      <td>0</td>\n",
       "      <td>0</td>\n",
       "      <td>1</td>\n",
       "      <td>0</td>\n",
       "      <td>0</td>\n",
       "      <td>0</td>\n",
       "      <td>0</td>\n",
       "    </tr>\n",
       "  </tbody>\n",
       "</table>\n",
       "<p>5 rows × 24 columns</p>\n",
       "</div>"
      ],
      "text/plain": [
       "   야간상주지 변경횟수 평균  주간상주지 변경횟수 평균  소액결재 사용횟수 평균  소액결재 사용금액 평균  SNS 사용횟수  \\\n",
       "0            2.5            2.5           0.0        5944.4       0.0   \n",
       "1            2.1            2.2           2.6        7777.8       0.2   \n",
       "2            1.9            1.8           2.8        5854.2       0.2   \n",
       "3            1.9            1.7           1.9        6286.7       0.1   \n",
       "4            1.7            1.7           2.8        6098.0       0.1   \n",
       "\n",
       "   데이터 사용량  게임 서비스 사용일수  금융 서비스 사용일수  쇼핑 서비스 사용일수  동영상/방송 서비스 사용일수  ...  \\\n",
       "0     21.4         56.8        141.3        123.5             56.6  ...   \n",
       "1     19.8         41.3        187.9        174.5             56.0  ...   \n",
       "2     17.1         34.0        188.9        181.4             55.9  ...   \n",
       "3     13.6         33.2        184.8        189.6             54.8  ...   \n",
       "4     11.2         22.5        189.8        199.2             55.2  ...   \n",
       "\n",
       "   배달_식재료 서비스 사용일수  남성  여성  20대  30대  40대  50대  60대  70대  연체여부  \n",
       "0              1.7   1   0    1    0    0    0    0    0     0  \n",
       "1              1.7   1   0    1    0    0    0    0    0     1  \n",
       "2              1.7   1   0    0    1    0    0    0    0     1  \n",
       "3              1.7   1   0    0    1    0    0    0    0     1  \n",
       "4              1.7   1   0    0    0    1    0    0    0     0  \n",
       "\n",
       "[5 rows x 24 columns]"
      ]
     },
     "execution_count": 9,
     "metadata": {},
     "output_type": "execute_result"
    }
   ],
   "source": [
    "# 라벨값 위치 조정\n",
    "column_move = alter_data_clean.pop('연체여부')\n",
    "alter_data_clean.insert(len(alter_data_clean.columns),'연체여부', column_move)\n",
    "alter_data_clean.head()\n"
   ]
  },
  {
   "cell_type": "code",
   "execution_count": 10,
   "metadata": {},
   "outputs": [
    {
     "name": "stdout",
     "output_type": "stream",
     "text": [
      "<class 'pandas.core.frame.DataFrame'>\n",
      "Int64Index: 50880 entries, 0 to 10175\n",
      "Data columns (total 24 columns):\n",
      " #   Column           Non-Null Count  Dtype  \n",
      "---  ------           --------------  -----  \n",
      " 0   야간상주지 변경횟수 평균    50880 non-null  float64\n",
      " 1   주간상주지 변경횟수 평균    50880 non-null  float64\n",
      " 2   소액결재 사용횟수 평균     50880 non-null  float64\n",
      " 3   소액결재 사용금액 평균     50880 non-null  float64\n",
      " 4   SNS 사용횟수         50880 non-null  float64\n",
      " 5   데이터 사용량          50880 non-null  float64\n",
      " 6   게임 서비스 사용일수      50880 non-null  float64\n",
      " 7   금융 서비스 사용일수      50880 non-null  float64\n",
      " 8   쇼핑 서비스 사용일수      50880 non-null  float64\n",
      " 9   동영상/방송 서비스 사용일수  50880 non-null  float64\n",
      " 10  유튜브 사용일수         50880 non-null  float64\n",
      " 11  넷플릭스 사용일수        50880 non-null  float64\n",
      " 12  배달 서비스 사용일수      50880 non-null  float64\n",
      " 13  배달_브랜드 서비스 사용일수  50880 non-null  float64\n",
      " 14  배달_식재료 서비스 사용일수  50880 non-null  float64\n",
      " 15  남성               50880 non-null  uint8  \n",
      " 16  여성               50880 non-null  uint8  \n",
      " 17  20대              50880 non-null  uint8  \n",
      " 18  30대              50880 non-null  uint8  \n",
      " 19  40대              50880 non-null  uint8  \n",
      " 20  50대              50880 non-null  uint8  \n",
      " 21  60대              50880 non-null  uint8  \n",
      " 22  70대              50880 non-null  uint8  \n",
      " 23  연체여부             50880 non-null  int64  \n",
      "dtypes: float64(15), int64(1), uint8(8)\n",
      "memory usage: 7.0 MB\n"
     ]
    }
   ],
   "source": [
    "alter_data_clean.info()"
   ]
  },
  {
   "cell_type": "code",
   "execution_count": 11,
   "metadata": {},
   "outputs": [
    {
     "data": {
      "text/plain": [
       "['연체여부',\n",
       " '데이터 사용량',\n",
       " '동영상/방송 서비스 사용일수',\n",
       " '게임 서비스 사용일수',\n",
       " 'SNS 사용횟수',\n",
       " '배달 서비스 사용일수',\n",
       " '유튜브 사용일수',\n",
       " '주간상주지 변경횟수 평균',\n",
       " '금융 서비스 사용일수']"
      ]
     },
     "execution_count": 11,
     "metadata": {},
     "output_type": "execute_result"
    }
   ],
   "source": [
    "# 연체여부와 상관성 있는 칼럼 출력\n",
    "alter_corr = alter_data_clean.corr()['연체여부'].sort_values(ascending=False)\n",
    "alter_corr = alter_corr[alter_corr>0.4]\n",
    "alter_corr_list = list(alter_corr.index)\n",
    "alter_corr_list"
   ]
  },
  {
   "cell_type": "code",
   "execution_count": 12,
   "metadata": {},
   "outputs": [
    {
     "data": {
      "image/png": "[encoded data removed]",
      "text/plain": [
       "<Figure size 1080x360 with 1 Axes>"
      ]
     },
     "metadata": {
      "needs_background": "light"
     },
     "output_type": "display_data"
    },
    {
     "data": {
      "image/png": "[encoded data removed]",
      "text/plain": [
       "<Figure size 1080x360 with 1 Axes>"
      ]
     },
     "metadata": {
      "needs_background": "light"
     },
     "output_type": "display_data"
    },
    {
     "data": {
      "image/png": "[encoded data removed]",
      "text/plain": [
       "<Figure size 1080x360 with 1 Axes>"
      ]
     },
     "metadata": {
      "needs_background": "light"
     },
     "output_type": "display_data"
    }
   ],
   "source": [
    "# 아웃라이어 확인 박스플롯\n",
    "def make_box(data):\n",
    "    for i in range(3):\n",
    "        plt.figure(figsize=(15, 5))\n",
    "        sns.boxplot(data=data.iloc[:, i*5:(i+1)*5])\n",
    "        plt.show()\n",
    "\n",
    "make_box(alter_data_clean)"
   ]
  },
  {
   "cell_type": "code",
   "execution_count": 13,
   "metadata": {},
   "outputs": [
    {
     "data": {
      "text/plain": [
       "(34819, 24)"
      ]
     },
     "execution_count": 13,
     "metadata": {},
     "output_type": "execute_result"
    }
   ],
   "source": [
    "# 아웃라이어 제거\n",
    "def remove_outliers(df):\n",
    "    df_out = df.iloc[:,:15]\n",
    "    Q1 = df_out.quantile(0.25)\n",
    "    Q3 = df_out.quantile(0.75)\n",
    "    IQR = Q3 - Q1\n",
    "    filter =  ~((df_out < (Q1 - 1.5 * IQR)) | (df_out > (Q3 + 1.5 * IQR))).any(axis=1)\n",
    "    return df[filter]\n",
    "\n",
    "alter_out = remove_outliers(alter_data_clean)\n",
    "\n",
    "alter_out.shape"
   ]
  },
  {
   "cell_type": "code",
   "execution_count": 14,
   "metadata": {},
   "outputs": [
    {
     "data": {
      "image/png": "[encoded data removed]",
      "text/plain": [
       "<Figure size 1080x360 with 1 Axes>"
      ]
     },
     "metadata": {
      "needs_background": "light"
     },
     "output_type": "display_data"
    },
    {
     "data": {
      "image/png": "[encoded data removed]",
      "text/plain": [
       "<Figure size 1080x360 with 1 Axes>"
      ]
     },
     "metadata": {
      "needs_background": "light"
     },
     "output_type": "display_data"
    },
    {
     "data": {
      "image/png": "[encoded data removed]",
      "text/plain": [
       "<Figure size 1080x360 with 1 Axes>"
      ]
     },
     "metadata": {
      "needs_background": "light"
     },
     "output_type": "display_data"
    }
   ],
   "source": [
    "# 아웃라이어 제거 확인\n",
    "make_box(alter_out)"
   ]
  },
  {
   "cell_type": "code",
   "execution_count": 15,
   "metadata": {},
   "outputs": [],
   "source": [
    "# 모델학습 핵심 지표 매핑\n",
    "alter_mapping = {\n",
    "    '소비 빈도 및 활동성': [\n",
    "        '야간상주지 변경횟수 평균', '주간상주지 변경횟수 평균', '소액결재 사용횟수 평균', \n",
    "        'SNS 사용횟수', '게임 서비스 사용일수', '쇼핑 서비스 사용일수'\n",
    "    ],\n",
    "    '소비 금액 및 규모': [\n",
    "        '소액결재 사용금액 평균', '데이터 사용량', '유튜브 사용일수', \n",
    "        '넷플릭스 사용일수', '배달 서비스 사용일수'\n",
    "    ],\n",
    "    '서비스 이용 다양성': [\n",
    "        '금융 서비스 사용일수', '동영상/방송 서비스 사용일수', \n",
    "        '배달_브랜드 서비스 사용일수', '배달_식재료 서비스 사용일수'\n",
    "    ]\n",
    "}"
   ]
  },
  {
   "cell_type": "code",
   "execution_count": 16,
   "metadata": {},
   "outputs": [
    {
     "data": {
      "text/html": [
       "<div>\n",
       "<style scoped>\n",
       "    .dataframe tbody tr th:only-of-type {\n",
       "        vertical-align: middle;\n",
       "    }\n",
       "\n",
       "    .dataframe tbody tr th {\n",
       "        vertical-align: top;\n",
       "    }\n",
       "\n",
       "    .dataframe thead th {\n",
       "        text-align: right;\n",
       "    }\n",
       "</style>\n",
       "<table border=\"1\" class=\"dataframe\">\n",
       "  <thead>\n",
       "    <tr style=\"text-align: right;\">\n",
       "      <th></th>\n",
       "      <th>소비 빈도 및 활동성</th>\n",
       "      <th>소비 금액 및 규모</th>\n",
       "      <th>서비스 이용 다양성</th>\n",
       "      <th>남성</th>\n",
       "      <th>여성</th>\n",
       "      <th>20대</th>\n",
       "      <th>30대</th>\n",
       "      <th>40대</th>\n",
       "      <th>50대</th>\n",
       "      <th>60대</th>\n",
       "      <th>70대</th>\n",
       "      <th>연체여부</th>\n",
       "    </tr>\n",
       "  </thead>\n",
       "  <tbody>\n",
       "    <tr>\n",
       "      <th>1</th>\n",
       "      <td>37.150000</td>\n",
       "      <td>1562.24</td>\n",
       "      <td>62.100</td>\n",
       "      <td>1</td>\n",
       "      <td>0</td>\n",
       "      <td>1</td>\n",
       "      <td>0</td>\n",
       "      <td>0</td>\n",
       "      <td>0</td>\n",
       "      <td>0</td>\n",
       "      <td>0</td>\n",
       "      <td>1</td>\n",
       "    </tr>\n",
       "    <tr>\n",
       "      <th>2</th>\n",
       "      <td>37.016667</td>\n",
       "      <td>1176.98</td>\n",
       "      <td>62.450</td>\n",
       "      <td>1</td>\n",
       "      <td>0</td>\n",
       "      <td>0</td>\n",
       "      <td>1</td>\n",
       "      <td>0</td>\n",
       "      <td>0</td>\n",
       "      <td>0</td>\n",
       "      <td>0</td>\n",
       "      <td>1</td>\n",
       "    </tr>\n",
       "    <tr>\n",
       "      <th>3</th>\n",
       "      <td>38.066667</td>\n",
       "      <td>1262.78</td>\n",
       "      <td>61.125</td>\n",
       "      <td>1</td>\n",
       "      <td>0</td>\n",
       "      <td>0</td>\n",
       "      <td>1</td>\n",
       "      <td>0</td>\n",
       "      <td>0</td>\n",
       "      <td>0</td>\n",
       "      <td>0</td>\n",
       "      <td>1</td>\n",
       "    </tr>\n",
       "    <tr>\n",
       "      <th>4</th>\n",
       "      <td>38.000000</td>\n",
       "      <td>1224.64</td>\n",
       "      <td>62.425</td>\n",
       "      <td>1</td>\n",
       "      <td>0</td>\n",
       "      <td>0</td>\n",
       "      <td>0</td>\n",
       "      <td>1</td>\n",
       "      <td>0</td>\n",
       "      <td>0</td>\n",
       "      <td>0</td>\n",
       "      <td>0</td>\n",
       "    </tr>\n",
       "    <tr>\n",
       "      <th>5</th>\n",
       "      <td>35.066667</td>\n",
       "      <td>1090.60</td>\n",
       "      <td>56.775</td>\n",
       "      <td>1</td>\n",
       "      <td>0</td>\n",
       "      <td>0</td>\n",
       "      <td>0</td>\n",
       "      <td>1</td>\n",
       "      <td>0</td>\n",
       "      <td>0</td>\n",
       "      <td>0</td>\n",
       "      <td>0</td>\n",
       "    </tr>\n",
       "  </tbody>\n",
       "</table>\n",
       "</div>"
      ],
      "text/plain": [
       "   소비 빈도 및 활동성  소비 금액 및 규모  서비스 이용 다양성  남성  여성  20대  30대  40대  50대  60대  70대  \\\n",
       "1    37.150000     1562.24      62.100   1   0    1    0    0    0    0    0   \n",
       "2    37.016667     1176.98      62.450   1   0    0    1    0    0    0    0   \n",
       "3    38.066667     1262.78      61.125   1   0    0    1    0    0    0    0   \n",
       "4    38.000000     1224.64      62.425   1   0    0    0    1    0    0    0   \n",
       "5    35.066667     1090.60      56.775   1   0    0    0    1    0    0    0   \n",
       "\n",
       "   연체여부  \n",
       "1     1  \n",
       "2     1  \n",
       "3     1  \n",
       "4     0  \n",
       "5     0  "
      ]
     },
     "metadata": {},
     "output_type": "display_data"
    }
   ],
   "source": [
    "# 정규화(X)\n",
    "# 핵심 지표 생성 함수\n",
    "def create_core_features(data, mapping):\n",
    "    core_features = {}\n",
    "    for feature_name, columns in mapping.items():\n",
    "        core_features[feature_name] = data[columns].mean(axis=1)  # 평균값으로 통합\n",
    "    return pd.DataFrame(core_features)\n",
    "\n",
    "alter_index = create_core_features(alter_out, alter_mapping)\n",
    "alter_notnorm = pd.concat([alter_index, alter_out.iloc[:,15:]], axis=1)\n",
    "\n",
    "display(alter_notnorm.head())"
   ]
  },
  {
   "cell_type": "code",
   "execution_count": 17,
   "metadata": {},
   "outputs": [
    {
     "data": {
      "text/html": [
       "<div>\n",
       "<style scoped>\n",
       "    .dataframe tbody tr th:only-of-type {\n",
       "        vertical-align: middle;\n",
       "    }\n",
       "\n",
       "    .dataframe tbody tr th {\n",
       "        vertical-align: top;\n",
       "    }\n",
       "\n",
       "    .dataframe thead th {\n",
       "        text-align: right;\n",
       "    }\n",
       "</style>\n",
       "<table border=\"1\" class=\"dataframe\">\n",
       "  <thead>\n",
       "    <tr style=\"text-align: right;\">\n",
       "      <th></th>\n",
       "      <th>소비 빈도 및 활동성</th>\n",
       "      <th>소비 금액 및 규모</th>\n",
       "      <th>서비스 이용 다양성</th>\n",
       "      <th>남성</th>\n",
       "      <th>여성</th>\n",
       "      <th>20대</th>\n",
       "      <th>30대</th>\n",
       "      <th>40대</th>\n",
       "      <th>50대</th>\n",
       "      <th>60대</th>\n",
       "      <th>70대</th>\n",
       "      <th>연체여부</th>\n",
       "    </tr>\n",
       "  </thead>\n",
       "  <tbody>\n",
       "    <tr>\n",
       "      <th>0</th>\n",
       "      <td>0.641394</td>\n",
       "      <td>0.768399</td>\n",
       "      <td>0.409465</td>\n",
       "      <td>1</td>\n",
       "      <td>0</td>\n",
       "      <td>1</td>\n",
       "      <td>0</td>\n",
       "      <td>0</td>\n",
       "      <td>0</td>\n",
       "      <td>0</td>\n",
       "      <td>0</td>\n",
       "      <td>1</td>\n",
       "    </tr>\n",
       "    <tr>\n",
       "      <th>1</th>\n",
       "      <td>0.586476</td>\n",
       "      <td>0.652896</td>\n",
       "      <td>0.454870</td>\n",
       "      <td>1</td>\n",
       "      <td>0</td>\n",
       "      <td>0</td>\n",
       "      <td>1</td>\n",
       "      <td>0</td>\n",
       "      <td>0</td>\n",
       "      <td>0</td>\n",
       "      <td>0</td>\n",
       "      <td>1</td>\n",
       "    </tr>\n",
       "    <tr>\n",
       "      <th>2</th>\n",
       "      <td>0.460871</td>\n",
       "      <td>0.612550</td>\n",
       "      <td>0.438317</td>\n",
       "      <td>1</td>\n",
       "      <td>0</td>\n",
       "      <td>0</td>\n",
       "      <td>1</td>\n",
       "      <td>0</td>\n",
       "      <td>0</td>\n",
       "      <td>0</td>\n",
       "      <td>0</td>\n",
       "      <td>1</td>\n",
       "    </tr>\n",
       "    <tr>\n",
       "      <th>3</th>\n",
       "      <td>0.497903</td>\n",
       "      <td>0.563611</td>\n",
       "      <td>0.426953</td>\n",
       "      <td>1</td>\n",
       "      <td>0</td>\n",
       "      <td>0</td>\n",
       "      <td>0</td>\n",
       "      <td>1</td>\n",
       "      <td>0</td>\n",
       "      <td>0</td>\n",
       "      <td>0</td>\n",
       "      <td>0</td>\n",
       "    </tr>\n",
       "    <tr>\n",
       "      <th>4</th>\n",
       "      <td>0.515722</td>\n",
       "      <td>0.523879</td>\n",
       "      <td>0.420061</td>\n",
       "      <td>1</td>\n",
       "      <td>0</td>\n",
       "      <td>0</td>\n",
       "      <td>0</td>\n",
       "      <td>1</td>\n",
       "      <td>0</td>\n",
       "      <td>0</td>\n",
       "      <td>0</td>\n",
       "      <td>0</td>\n",
       "    </tr>\n",
       "  </tbody>\n",
       "</table>\n",
       "</div>"
      ],
      "text/plain": [
       "   소비 빈도 및 활동성  소비 금액 및 규모  서비스 이용 다양성  남성  여성  20대  30대  40대  50대  60대  70대  \\\n",
       "0     0.641394    0.768399    0.409465   1   0    1    0    0    0    0    0   \n",
       "1     0.586476    0.652896    0.454870   1   0    0    1    0    0    0    0   \n",
       "2     0.460871    0.612550    0.438317   1   0    0    1    0    0    0    0   \n",
       "3     0.497903    0.563611    0.426953   1   0    0    0    1    0    0    0   \n",
       "4     0.515722    0.523879    0.420061   1   0    0    0    1    0    0    0   \n",
       "\n",
       "   연체여부  \n",
       "0     1  \n",
       "1     1  \n",
       "2     1  \n",
       "3     0  \n",
       "4     0  "
      ]
     },
     "metadata": {},
     "output_type": "display_data"
    }
   ],
   "source": [
    "# 정규화 O\n",
    "from sklearn.preprocessing import StandardScaler, MinMaxScaler\n",
    "\n",
    "mscaler = MinMaxScaler()\n",
    "\n",
    "def create_core_features(data, mapping, scaler):\n",
    "    core_features = {}\n",
    "    \n",
    "    for feature_name, columns in mapping.items():\n",
    "        # 해당 그룹의 컬럼들 정규화\n",
    "        scaled_values = scaler.fit_transform(data[columns])\n",
    "        # 정규화된 값들의 평균 계산\n",
    "        core_features[feature_name] = np.mean(scaled_values, axis=1)\n",
    "    \n",
    "    return pd.DataFrame(core_features)\n",
    "\n",
    "# 정규화\n",
    "alter_mm = create_core_features(alter_out, alter_mapping, mscaler).reset_index(drop=True)\n",
    "alter_reindex = alter_out.reset_index(drop=True)\n",
    "\n",
    "# 결합 시도\n",
    "alter_minmax = pd.concat([alter_mm, alter_reindex.iloc[:,15:]], axis=1)\n",
    "\n",
    "# 결과 확인\n",
    "display(alter_minmax.head())"
   ]
  },
  {
   "cell_type": "code",
   "execution_count": 18,
   "metadata": {},
   "outputs": [],
   "source": [
    "# 대안 데이터\n",
    "from sklearn.model_selection import GridSearchCV\n",
    "from sklearn.ensemble import RandomForestClassifier\n",
    "from xgboost.sklearn import XGBClassifier\n",
    "from sklearn.model_selection import train_test_split\n",
    "from sklearn.metrics import accuracy_score, precision_score, recall_score, f1_score, roc_auc_score, confusion_matrix\n",
    "\n",
    "def data_split(data):\n",
    "    x = data.drop(columns=['연체여부'])\n",
    "    y = data['연체여부']\n",
    "\n",
    "    x_train, x_test, y_train, y_test = train_test_split(x, y, test_size=0.2, random_state=42)\n",
    "    x_train, x_val, y_train, y_val = train_test_split(x_train, y_train, test_size=0.2, random_state=42)\n",
    "\n",
    "    return x_train, x_val, x_test, y_train, y_val, y_test\n",
    "\n",
    "x_train, x_val, x_test, y_train, y_val, y_test = data_split(alter_minmax)"
   ]
  },
  {
   "cell_type": "code",
   "execution_count": 19,
   "metadata": {},
   "outputs": [
    {
     "data": {
      "text/html": [
       "<div>\n",
       "<style scoped>\n",
       "    .dataframe tbody tr th:only-of-type {\n",
       "        vertical-align: middle;\n",
       "    }\n",
       "\n",
       "    .dataframe tbody tr th {\n",
       "        vertical-align: top;\n",
       "    }\n",
       "\n",
       "    .dataframe thead th {\n",
       "        text-align: right;\n",
       "    }\n",
       "</style>\n",
       "<table border=\"1\" class=\"dataframe\">\n",
       "  <thead>\n",
       "    <tr style=\"text-align: right;\">\n",
       "      <th></th>\n",
       "      <th>소비 빈도 및 활동성</th>\n",
       "      <th>소비 금액 및 규모</th>\n",
       "      <th>서비스 이용 다양성</th>\n",
       "      <th>남성</th>\n",
       "      <th>여성</th>\n",
       "      <th>20대</th>\n",
       "      <th>30대</th>\n",
       "      <th>40대</th>\n",
       "      <th>50대</th>\n",
       "      <th>60대</th>\n",
       "      <th>70대</th>\n",
       "      <th>연체여부</th>\n",
       "    </tr>\n",
       "  </thead>\n",
       "  <tbody>\n",
       "    <tr>\n",
       "      <th>0</th>\n",
       "      <td>0.384426</td>\n",
       "      <td>0.077502</td>\n",
       "      <td>0.25</td>\n",
       "      <td>0</td>\n",
       "      <td>1</td>\n",
       "      <td>0</td>\n",
       "      <td>0</td>\n",
       "      <td>1</td>\n",
       "      <td>0</td>\n",
       "      <td>0</td>\n",
       "      <td>0</td>\n",
       "      <td>1</td>\n",
       "    </tr>\n",
       "    <tr>\n",
       "      <th>1</th>\n",
       "      <td>0.265004</td>\n",
       "      <td>0.042410</td>\n",
       "      <td>0.25</td>\n",
       "      <td>0</td>\n",
       "      <td>1</td>\n",
       "      <td>1</td>\n",
       "      <td>0</td>\n",
       "      <td>0</td>\n",
       "      <td>0</td>\n",
       "      <td>0</td>\n",
       "      <td>0</td>\n",
       "      <td>1</td>\n",
       "    </tr>\n",
       "    <tr>\n",
       "      <th>2</th>\n",
       "      <td>0.076045</td>\n",
       "      <td>0.038398</td>\n",
       "      <td>0.25</td>\n",
       "      <td>0</td>\n",
       "      <td>1</td>\n",
       "      <td>0</td>\n",
       "      <td>0</td>\n",
       "      <td>0</td>\n",
       "      <td>1</td>\n",
       "      <td>0</td>\n",
       "      <td>0</td>\n",
       "      <td>1</td>\n",
       "    </tr>\n",
       "    <tr>\n",
       "      <th>3</th>\n",
       "      <td>0.119652</td>\n",
       "      <td>0.045946</td>\n",
       "      <td>0.25</td>\n",
       "      <td>0</td>\n",
       "      <td>1</td>\n",
       "      <td>0</td>\n",
       "      <td>1</td>\n",
       "      <td>0</td>\n",
       "      <td>0</td>\n",
       "      <td>0</td>\n",
       "      <td>0</td>\n",
       "      <td>1</td>\n",
       "    </tr>\n",
       "    <tr>\n",
       "      <th>4</th>\n",
       "      <td>0.168577</td>\n",
       "      <td>0.040089</td>\n",
       "      <td>0.25</td>\n",
       "      <td>1</td>\n",
       "      <td>0</td>\n",
       "      <td>0</td>\n",
       "      <td>0</td>\n",
       "      <td>0</td>\n",
       "      <td>0</td>\n",
       "      <td>1</td>\n",
       "      <td>0</td>\n",
       "      <td>1</td>\n",
       "    </tr>\n",
       "  </tbody>\n",
       "</table>\n",
       "</div>"
      ],
      "text/plain": [
       "   소비 빈도 및 활동성  소비 금액 및 규모  서비스 이용 다양성  남성  여성  20대  30대  40대  50대  60대  70대  \\\n",
       "0     0.384426    0.077502        0.25   0   1    0    0    1    0    0    0   \n",
       "1     0.265004    0.042410        0.25   0   1    1    0    0    0    0    0   \n",
       "2     0.076045    0.038398        0.25   0   1    0    0    0    1    0    0   \n",
       "3     0.119652    0.045946        0.25   0   1    0    1    0    0    0    0   \n",
       "4     0.168577    0.040089        0.25   1   0    0    0    0    0    1    0   \n",
       "\n",
       "   연체여부  \n",
       "0     1  \n",
       "1     1  \n",
       "2     1  \n",
       "3     1  \n",
       "4     1  "
      ]
     },
     "execution_count": 19,
     "metadata": {},
     "output_type": "execute_result"
    }
   ],
   "source": [
    "# 신용카드 데이터\n",
    "credit_data = pd.read_csv('../alternative_data/credit(120만).csv')\n",
    "credit_data.rename(columns={'회원여부_연체':'연체여부'}, inplace=True)\n",
    "credit_data = credit_data.drop(['연체 가능성 및 신용 리스크'], axis=1)\n",
    "credit_data.head()"
   ]
  },
  {
   "cell_type": "code",
   "execution_count": 20,
   "metadata": {},
   "outputs": [
    {
     "name": "stdout",
     "output_type": "stream",
     "text": [
      "(1200000, 11) (1200000,)\n"
     ]
    }
   ],
   "source": [
    "x_test_p = credit_data.drop(['연체여부'], axis=1)\n",
    "y_test_p = credit_data['연체여부']\n",
    "print(x_test_p.shape, y_test_p.shape)"
   ]
  },
  {
   "cell_type": "code",
   "execution_count": 21,
   "metadata": {},
   "outputs": [
    {
     "name": "stdout",
     "output_type": "stream",
     "text": [
      "최적의 하이퍼파라미터: {'colsample_bytree': 1.0, 'learning_rate': 0.01, 'max_depth': 7, 'min_child_weight': 3, 'n_estimators': 200, 'subsample': 0.8}\n",
      "최적의 precision 점수: 0.7272035925479524\n",
      "[0]\tvalidation_0-logloss:0.69085\n",
      "[1]\tvalidation_0-logloss:0.68869\n",
      "[2]\tvalidation_0-logloss:0.68653\n",
      "[3]\tvalidation_0-logloss:0.68438\n",
      "[4]\tvalidation_0-logloss:0.68230\n",
      "[5]\tvalidation_0-logloss:0.68019\n",
      "[6]\tvalidation_0-logloss:0.67823\n",
      "[7]\tvalidation_0-logloss:0.67623\n",
      "[8]\tvalidation_0-logloss:0.67433\n",
      "[9]\tvalidation_0-logloss:0.67241\n",
      "[10]\tvalidation_0-logloss:0.67053\n",
      "[11]\tvalidation_0-logloss:0.66873\n",
      "[12]\tvalidation_0-logloss:0.66699\n",
      "[13]\tvalidation_0-logloss:0.66524\n",
      "[14]\tvalidation_0-logloss:0.66351\n",
      "[15]\tvalidation_0-logloss:0.66179\n",
      "[16]\tvalidation_0-logloss:0.66006\n",
      "[17]\tvalidation_0-logloss:0.65834\n",
      "[18]\tvalidation_0-logloss:0.65670\n",
      "[19]\tvalidation_0-logloss:0.65503\n",
      "[20]\tvalidation_0-logloss:0.65343\n",
      "[21]\tvalidation_0-logloss:0.65190\n",
      "[22]\tvalidation_0-logloss:0.65037\n",
      "[23]\tvalidation_0-logloss:0.64887\n",
      "[24]\tvalidation_0-logloss:0.64740\n",
      "[25]\tvalidation_0-logloss:0.64591\n",
      "[26]\tvalidation_0-logloss:0.64451\n",
      "[27]\tvalidation_0-logloss:0.64311\n",
      "[28]\tvalidation_0-logloss:0.64174\n",
      "[29]\tvalidation_0-logloss:0.64043\n",
      "[30]\tvalidation_0-logloss:0.63910\n",
      "[31]\tvalidation_0-logloss:0.63784\n",
      "[32]\tvalidation_0-logloss:0.63658\n",
      "[33]\tvalidation_0-logloss:0.63531\n",
      "[34]\tvalidation_0-logloss:0.63400\n",
      "[35]\tvalidation_0-logloss:0.63282\n",
      "[36]\tvalidation_0-logloss:0.63152\n",
      "[37]\tvalidation_0-logloss:0.63029\n",
      "[38]\tvalidation_0-logloss:0.62906\n",
      "[39]\tvalidation_0-logloss:0.62794\n",
      "[40]\tvalidation_0-logloss:0.62680\n",
      "[41]\tvalidation_0-logloss:0.62569\n",
      "[42]\tvalidation_0-logloss:0.62461\n",
      "[43]\tvalidation_0-logloss:0.62353\n",
      "[44]\tvalidation_0-logloss:0.62248\n",
      "[45]\tvalidation_0-logloss:0.62141\n",
      "[46]\tvalidation_0-logloss:0.62036\n",
      "[47]\tvalidation_0-logloss:0.61936\n",
      "[48]\tvalidation_0-logloss:0.61828\n",
      "[49]\tvalidation_0-logloss:0.61731\n",
      "[50]\tvalidation_0-logloss:0.61635\n",
      "[51]\tvalidation_0-logloss:0.61534\n",
      "[52]\tvalidation_0-logloss:0.61435\n",
      "[53]\tvalidation_0-logloss:0.61341\n",
      "[54]\tvalidation_0-logloss:0.61251\n",
      "[55]\tvalidation_0-logloss:0.61164\n",
      "[56]\tvalidation_0-logloss:0.61076\n",
      "[57]\tvalidation_0-logloss:0.60987\n",
      "[58]\tvalidation_0-logloss:0.60902\n",
      "[59]\tvalidation_0-logloss:0.60811\n",
      "[60]\tvalidation_0-logloss:0.60731\n",
      "[61]\tvalidation_0-logloss:0.60654\n",
      "[62]\tvalidation_0-logloss:0.60571\n",
      "[63]\tvalidation_0-logloss:0.60490\n",
      "[64]\tvalidation_0-logloss:0.60410\n",
      "[65]\tvalidation_0-logloss:0.60324\n",
      "[66]\tvalidation_0-logloss:0.60255\n",
      "[67]\tvalidation_0-logloss:0.60182\n",
      "[68]\tvalidation_0-logloss:0.60112\n",
      "[69]\tvalidation_0-logloss:0.60032\n",
      "[70]\tvalidation_0-logloss:0.59958\n",
      "[71]\tvalidation_0-logloss:0.59888\n",
      "[72]\tvalidation_0-logloss:0.59821\n",
      "[73]\tvalidation_0-logloss:0.59757\n",
      "[74]\tvalidation_0-logloss:0.59691\n",
      "[75]\tvalidation_0-logloss:0.59619\n",
      "[76]\tvalidation_0-logloss:0.59549\n",
      "[77]\tvalidation_0-logloss:0.59486\n",
      "[78]\tvalidation_0-logloss:0.59427\n",
      "[79]\tvalidation_0-logloss:0.59360\n",
      "[80]\tvalidation_0-logloss:0.59296\n",
      "[81]\tvalidation_0-logloss:0.59231\n",
      "[82]\tvalidation_0-logloss:0.59170\n",
      "[83]\tvalidation_0-logloss:0.59113\n",
      "[84]\tvalidation_0-logloss:0.59052\n",
      "[85]\tvalidation_0-logloss:0.58991\n",
      "[86]\tvalidation_0-logloss:0.58930\n",
      "[87]\tvalidation_0-logloss:0.58876\n",
      "[88]\tvalidation_0-logloss:0.58826\n",
      "[89]\tvalidation_0-logloss:0.58773\n",
      "[90]\tvalidation_0-logloss:0.58720\n",
      "[91]\tvalidation_0-logloss:0.58671\n",
      "[92]\tvalidation_0-logloss:0.58615\n",
      "[93]\tvalidation_0-logloss:0.58564\n",
      "[94]\tvalidation_0-logloss:0.58517\n",
      "[95]\tvalidation_0-logloss:0.58466\n",
      "[96]\tvalidation_0-logloss:0.58417\n",
      "[97]\tvalidation_0-logloss:0.58375\n",
      "[98]\tvalidation_0-logloss:0.58326\n",
      "[99]\tvalidation_0-logloss:0.58277\n",
      "[100]\tvalidation_0-logloss:0.58234\n",
      "[101]\tvalidation_0-logloss:0.58184\n",
      "[102]\tvalidation_0-logloss:0.58139\n",
      "[103]\tvalidation_0-logloss:0.58095\n",
      "[104]\tvalidation_0-logloss:0.58056\n",
      "[105]\tvalidation_0-logloss:0.58010\n",
      "[106]\tvalidation_0-logloss:0.57966\n",
      "[107]\tvalidation_0-logloss:0.57919\n",
      "[108]\tvalidation_0-logloss:0.57874\n",
      "[109]\tvalidation_0-logloss:0.57835\n",
      "[110]\tvalidation_0-logloss:0.57791\n",
      "[111]\tvalidation_0-logloss:0.57753\n",
      "[112]\tvalidation_0-logloss:0.57710\n",
      "[113]\tvalidation_0-logloss:0.57669\n",
      "[114]\tvalidation_0-logloss:0.57630\n",
      "[115]\tvalidation_0-logloss:0.57590\n",
      "[116]\tvalidation_0-logloss:0.57557\n",
      "[117]\tvalidation_0-logloss:0.57518\n",
      "[118]\tvalidation_0-logloss:0.57479\n",
      "[119]\tvalidation_0-logloss:0.57442\n",
      "[120]\tvalidation_0-logloss:0.57411\n",
      "[121]\tvalidation_0-logloss:0.57377\n",
      "[122]\tvalidation_0-logloss:0.57342\n",
      "[123]\tvalidation_0-logloss:0.57307\n",
      "[124]\tvalidation_0-logloss:0.57277\n",
      "[125]\tvalidation_0-logloss:0.57245\n",
      "[126]\tvalidation_0-logloss:0.57219\n",
      "[127]\tvalidation_0-logloss:0.57189\n",
      "[128]\tvalidation_0-logloss:0.57154\n",
      "[129]\tvalidation_0-logloss:0.57124\n",
      "[130]\tvalidation_0-logloss:0.57090\n",
      "[131]\tvalidation_0-logloss:0.57061\n",
      "[132]\tvalidation_0-logloss:0.57034\n",
      "[133]\tvalidation_0-logloss:0.57008\n",
      "[134]\tvalidation_0-logloss:0.56980\n",
      "[135]\tvalidation_0-logloss:0.56953\n",
      "[136]\tvalidation_0-logloss:0.56924\n",
      "[137]\tvalidation_0-logloss:0.56896\n",
      "[138]\tvalidation_0-logloss:0.56867\n",
      "[139]\tvalidation_0-logloss:0.56835\n",
      "[140]\tvalidation_0-logloss:0.56807\n",
      "[141]\tvalidation_0-logloss:0.56780\n",
      "[142]\tvalidation_0-logloss:0.56759\n",
      "[143]\tvalidation_0-logloss:0.56733\n",
      "[144]\tvalidation_0-logloss:0.56710\n",
      "[145]\tvalidation_0-logloss:0.56686\n",
      "[146]\tvalidation_0-logloss:0.56657\n",
      "[147]\tvalidation_0-logloss:0.56630\n",
      "[148]\tvalidation_0-logloss:0.56610\n",
      "[149]\tvalidation_0-logloss:0.56592\n",
      "[150]\tvalidation_0-logloss:0.56570\n",
      "[151]\tvalidation_0-logloss:0.56552\n",
      "[152]\tvalidation_0-logloss:0.56531\n",
      "[153]\tvalidation_0-logloss:0.56508\n",
      "[154]\tvalidation_0-logloss:0.56484\n",
      "[155]\tvalidation_0-logloss:0.56459\n",
      "[156]\tvalidation_0-logloss:0.56439\n",
      "[157]\tvalidation_0-logloss:0.56416\n",
      "[158]\tvalidation_0-logloss:0.56398\n",
      "[159]\tvalidation_0-logloss:0.56375\n",
      "[160]\tvalidation_0-logloss:0.56360\n",
      "[161]\tvalidation_0-logloss:0.56342\n",
      "[162]\tvalidation_0-logloss:0.56320\n",
      "[163]\tvalidation_0-logloss:0.56300\n",
      "[164]\tvalidation_0-logloss:0.56281\n",
      "[165]\tvalidation_0-logloss:0.56265\n",
      "[166]\tvalidation_0-logloss:0.56242\n",
      "[167]\tvalidation_0-logloss:0.56224\n",
      "[168]\tvalidation_0-logloss:0.56208\n",
      "[169]\tvalidation_0-logloss:0.56188\n",
      "[170]\tvalidation_0-logloss:0.56169\n",
      "[171]\tvalidation_0-logloss:0.56152\n",
      "[172]\tvalidation_0-logloss:0.56137\n",
      "[173]\tvalidation_0-logloss:0.56122\n",
      "[174]\tvalidation_0-logloss:0.56106\n",
      "[175]\tvalidation_0-logloss:0.56089\n",
      "[176]\tvalidation_0-logloss:0.56073\n",
      "[177]\tvalidation_0-logloss:0.56061\n",
      "[178]\tvalidation_0-logloss:0.56043\n",
      "[179]\tvalidation_0-logloss:0.56028\n",
      "[180]\tvalidation_0-logloss:0.56015\n",
      "[181]\tvalidation_0-logloss:0.56000\n",
      "[182]\tvalidation_0-logloss:0.55986\n",
      "[183]\tvalidation_0-logloss:0.55970\n",
      "[184]\tvalidation_0-logloss:0.55957\n",
      "[185]\tvalidation_0-logloss:0.55943\n",
      "[186]\tvalidation_0-logloss:0.55929\n",
      "[187]\tvalidation_0-logloss:0.55916\n",
      "[188]\tvalidation_0-logloss:0.55903\n",
      "[189]\tvalidation_0-logloss:0.55891\n",
      "[190]\tvalidation_0-logloss:0.55880\n",
      "[191]\tvalidation_0-logloss:0.55867\n",
      "[192]\tvalidation_0-logloss:0.55855\n",
      "[193]\tvalidation_0-logloss:0.55840\n",
      "[194]\tvalidation_0-logloss:0.55823\n",
      "[195]\tvalidation_0-logloss:0.55813\n",
      "[196]\tvalidation_0-logloss:0.55800\n",
      "[197]\tvalidation_0-logloss:0.55787\n",
      "[198]\tvalidation_0-logloss:0.55773\n",
      "[199]\tvalidation_0-logloss:0.55760\n"
     ]
    }
   ],
   "source": [
    "# XGBoost 모델 생성\n",
    "def xgb_grid_model(x_train, x_val, y_train, y_val):\n",
    "    param_grid = {\n",
    "        'n_estimators': [100, 200, 300],\n",
    "        'learning_rate': [0.01, 0.1, 0.3],\n",
    "        'max_depth': [3, 5, 7], \n",
    "        'min_child_weight': [1, 3],\n",
    "        'subsample': [0.8, 1.0],\n",
    "        'colsample_bytree': [0.8, 1.0]\n",
    "    }\n",
    "\n",
    "    # XGBClassifier 초기화\n",
    "    xgb_model = XGBClassifier(objective='binary:logistic', \n",
    "                            random_state=42,\n",
    "                            scale_pos_weight = len(y_train[y_train == 0]) / len(y_train[y_train == 1]))\n",
    "\n",
    "    # GridSearchCV 초기화\n",
    "    grid_search = GridSearchCV(estimator=xgb_model, \n",
    "                            param_grid=param_grid, \n",
    "                            scoring='precision', \n",
    "                            cv=3)\n",
    "\n",
    "    # GridSearchCV 실행\n",
    "    grid_search.fit(x_train, y_train)\n",
    "\n",
    "    # 최적의 하이퍼파라미터 출력\n",
    "    print(\"최적의 하이퍼파라미터:\", grid_search.best_params_)\n",
    "    print(\"최적의 precision 점수:\", grid_search.best_score_)\n",
    "\n",
    "    # 최적의 하이퍼파라미터로 모델 재훈련\n",
    "    best_xgb_model = grid_search.best_estimator_\n",
    "    best_xgb_model.fit(x_train, y_train, \n",
    "                       eval_set=[(x_val, y_val)])\n",
    "    \n",
    "    return best_xgb_model\n",
    "    \n",
    "best_xgb_model = xgb_grid_model(x_train, x_val, y_train, y_val)"
   ]
  },
  {
   "cell_type": "code",
   "execution_count": 22,
   "metadata": {},
   "outputs": [],
   "source": [
    "#  평가 함수\n",
    "def evaluate_model(model, x_val, y_val):\n",
    "    y_pred = model.predict(x_val)\n",
    "    y_pred_proba = model.predict_proba(x_val)\n",
    "\n",
    "    print('Accuracy:', accuracy_score(y_val, y_pred))\n",
    "    print('Precision:', precision_score(y_val, y_pred))\n",
    "    print('Recall:', recall_score(y_val, y_pred))\n",
    "    print('F1-score:', f1_score(y_val, y_pred))\n",
    "    print('ROC AUC:', roc_auc_score(y_val, y_pred_proba[:, 1]))\n",
    "\n",
    "    # 피쳐 중요도\n",
    "    feature_importance = pd.DataFrame({\n",
    "        'feature': x_val.columns,\n",
    "        'importance': model.feature_importances_\n",
    "    }).sort_values('importance', ascending=False)\n",
    "\n",
    "    plt.figure(figsize=(8, 5))\n",
    "    plt.bar(feature_importance['feature'], feature_importance['importance'])\n",
    "    plt.xticks(rotation=45)\n",
    "    plt.title('Feature Importance')\n",
    "    plt.tight_layout()\n",
    "    plt.show()\n",
    "\n",
    "    # 혼동행렬 생성\n",
    "    cm = confusion_matrix(y_val, y_pred)\n",
    "\n",
    "    plt.figure(figsize=(8, 6))\n",
    "    sns.heatmap(cm, \n",
    "                fmt='d', \n",
    "                cmap='Blues', \n",
    "                xticklabels=['0', '1'], \n",
    "                yticklabels=['0', '1'], \n",
    "                annot=True, annot_kws={\"size\": 20})\n",
    "    plt.xlabel('예측')\n",
    "    plt.ylabel('실제')\n",
    "    plt.title('Confusion Matrix')\n",
    "    plt.show()\n",
    "  \n",
    "    return y_pred, y_pred_proba"
   ]
  },
  {
   "cell_type": "code",
   "execution_count": 23,
   "metadata": {},
   "outputs": [
    {
     "name": "stdout",
     "output_type": "stream",
     "text": [
      "Accuracy: 0.7143882825962091\n",
      "Precision: 0.7223140495867768\n",
      "Recall: 0.7277268942547876\n",
      "F1-score: 0.725010369141435\n",
      "ROC AUC: 0.7926833014538861\n"
     ]
    },
    {
     "data": {
      "image/png": "[encoded data removed]",
      "text/plain": [
       "<Figure size 576x360 with 1 Axes>"
      ]
     },
     "metadata": {
      "needs_background": "light"
     },
     "output_type": "display_data"
    },
    {
     "data": {
      "image/png": "[encoded data removed]",
      "text/plain": [
       "<Figure size 576x432 with 2 Axes>"
      ]
     },
     "metadata": {
      "needs_background": "light"
     },
     "output_type": "display_data"
    }
   ],
   "source": [
    "# XGB모델 대안 평가 예측\n",
    "y_pred_alter_xgb, y_pred_proba_alter_xgb = evaluate_model(best_xgb_model, x_test, y_test)"
   ]
  },
  {
   "cell_type": "code",
   "execution_count": 24,
   "metadata": {},
   "outputs": [
    {
     "name": "stdout",
     "output_type": "stream",
     "text": [
      "Accuracy: 0.7423825\n",
      "Precision: 0.05263157894736842\n",
      "Recall: 6.47025140161821e-06\n",
      "F1-score: 1.2938912160960069e-05\n",
      "ROC AUC: 0.48404684849541507\n"
     ]
    },
    {
     "data": {
      "image/png": "[encoded data removed]",
      "text/plain": [
       "<Figure size 576x360 with 1 Axes>"
      ]
     },
     "metadata": {
      "needs_background": "light"
     },
     "output_type": "display_data"
    },
    {
     "data": {
      "image/png": "[encoded data removed]",
      "text/plain": [
       "<Figure size 576x432 with 2 Axes>"
      ]
     },
     "metadata": {
      "needs_background": "light"
     },
     "output_type": "display_data"
    }
   ],
   "source": [
    "# XGB모델 신용카드 예측\n",
    "y_pred_credit_xgb, y_pred_proba_credit_xgb = evaluate_model(best_xgb_model,  x_test_p, y_test_p)"
   ]
  },
  {
   "cell_type": "code",
   "execution_count": 25,
   "metadata": {},
   "outputs": [
    {
     "name": "stdout",
     "output_type": "stream",
     "text": [
      "최적의 하이퍼파라미터: {'bootstrap': False, 'max_depth': 10, 'max_features': 'auto', 'min_samples_leaf': 2, 'min_samples_split': 10, 'n_estimators': 100}\n",
      "최적의 AUC 점수: 0.7626689189929384\n"
     ]
    }
   ],
   "source": [
    "# RandomForest 모델 설계\n",
    "def rf_grid_model(x_train, y_train):\n",
    "    # 하이퍼파라미터 그리드 설정\n",
    "    param_grid = {\n",
    "        'n_estimators': [100, 200],\n",
    "        'max_depth': [ 10, 20, 30],\n",
    "        'min_samples_split': [ 5, 10],\n",
    "        'min_samples_leaf': [ 2, 4],\n",
    "        'max_features': ['auto', 'sqrt', 'log2'],\n",
    "        'bootstrap': [True, False]\n",
    "    }\n",
    "    \n",
    "    # 랜덤포레스트 모델 초기화\n",
    "    rf_model = RandomForestClassifier(random_state=42)\n",
    "\n",
    "    # GridSearchCV 초기화\n",
    "    grid_search_rf = GridSearchCV(estimator=rf_model, \n",
    "                                  param_grid=param_grid, \n",
    "                                  scoring='recall', \n",
    "                                  cv=3,\n",
    "                                  n_jobs=-1)  # 병렬 처리 활성화\n",
    "    \n",
    "    # GridSearchCV 실행\n",
    "    grid_search_rf.fit(x_train, y_train)\n",
    "\n",
    "    # 최적의 하이퍼파라미터 출력\n",
    "    print(\"최적의 하이퍼파라미터:\", grid_search_rf.best_params_)\n",
    "    print(\"최적의 AUC 점수:\", grid_search_rf.best_score_)\n",
    "\n",
    "    # 최적의 하이퍼파라미터로 모델 재훈련\n",
    "    best_rf_model = grid_search_rf.best_estimator_\n",
    "    best_rf_model.fit(x_train, y_train)\n",
    "    \n",
    "    \n",
    "    return best_rf_model\n",
    "\n",
    "best_rf_model = rf_grid_model(x_train, y_train)"
   ]
  },
  {
   "cell_type": "code",
   "execution_count": 26,
   "metadata": {},
   "outputs": [
    {
     "name": "stdout",
     "output_type": "stream",
     "text": [
      "Accuracy: 0.7086444572085009\n",
      "Precision: 0.6964553170244633\n",
      "Recall: 0.7743547044129891\n",
      "F1-score: 0.733342094887633\n",
      "ROC AUC: 0.7920112359671182\n"
     ]
    },
    {
     "data": {
      "image/png": "[encoded data removed]",
      "text/plain": [
       "<Figure size 576x360 with 1 Axes>"
      ]
     },
     "metadata": {
      "needs_background": "light"
     },
     "output_type": "display_data"
    },
    {
     "data": {
      "image/png": "[encoded data removed]",
      "text/plain": [
       "<Figure size 576x432 with 2 Axes>"
      ]
     },
     "metadata": {
      "needs_background": "light"
     },
     "output_type": "display_data"
    }
   ],
   "source": [
    "# 랜덤포레스트 모델 대안 평가 예측\n",
    "y_pred_rf, y_pred_proba_rf = evaluate_model(best_rf_model, x_test, y_test)"
   ]
  },
  {
   "cell_type": "code",
   "execution_count": 27,
   "metadata": {},
   "outputs": [
    {
     "name": "stdout",
     "output_type": "stream",
     "text": [
      "Accuracy: 0.739205\n",
      "Precision: 0.10832824272042355\n",
      "Recall: 0.001721086872830444\n",
      "F1-score: 0.0033883407957505623\n",
      "ROC AUC: 0.4252239026640877\n"
     ]
    },
    {
     "data": {
      "image/png": "[encoded data removed]",
      "text/plain": [
       "<Figure size 576x360 with 1 Axes>"
      ]
     },
     "metadata": {
      "needs_background": "light"
     },
     "output_type": "display_data"
    },
    {
     "data": {
      "image/png": "[encoded data removed]",
      "text/plain": [
       "<Figure size 576x432 with 2 Axes>"
      ]
     },
     "metadata": {
      "needs_background": "light"
     },
     "output_type": "display_data"
    }
   ],
   "source": [
    "# 랜덤포레스트 모델 신용카드 예측\n",
    "y_pred_rf_p, y_pred_proba_rf_p = evaluate_model(best_rf_model, x_test_p, y_test_p)"
   ]
  },
  {
   "cell_type": "markdown",
   "metadata": {},
   "source": [
    "성별, 나이대 제거"
   ]
  },
  {
   "cell_type": "code",
   "execution_count": 28,
   "metadata": {},
   "outputs": [
    {
     "data": {
      "text/html": [
       "<div>\n",
       "<style scoped>\n",
       "    .dataframe tbody tr th:only-of-type {\n",
       "        vertical-align: middle;\n",
       "    }\n",
       "\n",
       "    .dataframe tbody tr th {\n",
       "        vertical-align: top;\n",
       "    }\n",
       "\n",
       "    .dataframe thead th {\n",
       "        text-align: right;\n",
       "    }\n",
       "</style>\n",
       "<table border=\"1\" class=\"dataframe\">\n",
       "  <thead>\n",
       "    <tr style=\"text-align: right;\">\n",
       "      <th></th>\n",
       "      <th>소비 빈도 및 활동성</th>\n",
       "      <th>소비 금액 및 규모</th>\n",
       "      <th>서비스 이용 다양성</th>\n",
       "    </tr>\n",
       "  </thead>\n",
       "  <tbody>\n",
       "    <tr>\n",
       "      <th>19104</th>\n",
       "      <td>0.216078</td>\n",
       "      <td>0.242746</td>\n",
       "      <td>0.235463</td>\n",
       "    </tr>\n",
       "    <tr>\n",
       "      <th>18524</th>\n",
       "      <td>0.506218</td>\n",
       "      <td>0.518329</td>\n",
       "      <td>0.396824</td>\n",
       "    </tr>\n",
       "    <tr>\n",
       "      <th>30604</th>\n",
       "      <td>0.448554</td>\n",
       "      <td>0.362344</td>\n",
       "      <td>0.311217</td>\n",
       "    </tr>\n",
       "    <tr>\n",
       "      <th>21510</th>\n",
       "      <td>0.561556</td>\n",
       "      <td>0.665496</td>\n",
       "      <td>0.481247</td>\n",
       "    </tr>\n",
       "    <tr>\n",
       "      <th>31967</th>\n",
       "      <td>0.517960</td>\n",
       "      <td>0.483681</td>\n",
       "      <td>0.442345</td>\n",
       "    </tr>\n",
       "  </tbody>\n",
       "</table>\n",
       "</div>"
      ],
      "text/plain": [
       "       소비 빈도 및 활동성  소비 금액 및 규모  서비스 이용 다양성\n",
       "19104     0.216078    0.242746    0.235463\n",
       "18524     0.506218    0.518329    0.396824\n",
       "30604     0.448554    0.362344    0.311217\n",
       "21510     0.561556    0.665496    0.481247\n",
       "31967     0.517960    0.483681    0.442345"
      ]
     },
     "metadata": {},
     "output_type": "display_data"
    },
    {
     "data": {
      "text/html": [
       "<div>\n",
       "<style scoped>\n",
       "    .dataframe tbody tr th:only-of-type {\n",
       "        vertical-align: middle;\n",
       "    }\n",
       "\n",
       "    .dataframe tbody tr th {\n",
       "        vertical-align: top;\n",
       "    }\n",
       "\n",
       "    .dataframe thead th {\n",
       "        text-align: right;\n",
       "    }\n",
       "</style>\n",
       "<table border=\"1\" class=\"dataframe\">\n",
       "  <thead>\n",
       "    <tr style=\"text-align: right;\">\n",
       "      <th></th>\n",
       "      <th>소비 빈도 및 활동성</th>\n",
       "      <th>소비 금액 및 규모</th>\n",
       "      <th>서비스 이용 다양성</th>\n",
       "    </tr>\n",
       "  </thead>\n",
       "  <tbody>\n",
       "    <tr>\n",
       "      <th>3897</th>\n",
       "      <td>0.372325</td>\n",
       "      <td>0.459634</td>\n",
       "      <td>0.291483</td>\n",
       "    </tr>\n",
       "    <tr>\n",
       "      <th>22886</th>\n",
       "      <td>0.308125</td>\n",
       "      <td>0.235247</td>\n",
       "      <td>0.121614</td>\n",
       "    </tr>\n",
       "    <tr>\n",
       "      <th>5720</th>\n",
       "      <td>0.276053</td>\n",
       "      <td>0.346781</td>\n",
       "      <td>0.339642</td>\n",
       "    </tr>\n",
       "    <tr>\n",
       "      <th>30064</th>\n",
       "      <td>0.625475</td>\n",
       "      <td>0.556437</td>\n",
       "      <td>0.424905</td>\n",
       "    </tr>\n",
       "    <tr>\n",
       "      <th>10031</th>\n",
       "      <td>0.352083</td>\n",
       "      <td>0.343195</td>\n",
       "      <td>0.350317</td>\n",
       "    </tr>\n",
       "  </tbody>\n",
       "</table>\n",
       "</div>"
      ],
      "text/plain": [
       "       소비 빈도 및 활동성  소비 금액 및 규모  서비스 이용 다양성\n",
       "3897      0.372325    0.459634    0.291483\n",
       "22886     0.308125    0.235247    0.121614\n",
       "5720      0.276053    0.346781    0.339642\n",
       "30064     0.625475    0.556437    0.424905\n",
       "10031     0.352083    0.343195    0.350317"
      ]
     },
     "metadata": {},
     "output_type": "display_data"
    },
    {
     "data": {
      "text/html": [
       "<div>\n",
       "<style scoped>\n",
       "    .dataframe tbody tr th:only-of-type {\n",
       "        vertical-align: middle;\n",
       "    }\n",
       "\n",
       "    .dataframe tbody tr th {\n",
       "        vertical-align: top;\n",
       "    }\n",
       "\n",
       "    .dataframe thead th {\n",
       "        text-align: right;\n",
       "    }\n",
       "</style>\n",
       "<table border=\"1\" class=\"dataframe\">\n",
       "  <thead>\n",
       "    <tr style=\"text-align: right;\">\n",
       "      <th></th>\n",
       "      <th>소비 빈도 및 활동성</th>\n",
       "      <th>소비 금액 및 규모</th>\n",
       "      <th>서비스 이용 다양성</th>\n",
       "    </tr>\n",
       "  </thead>\n",
       "  <tbody>\n",
       "    <tr>\n",
       "      <th>33413</th>\n",
       "      <td>0.410004</td>\n",
       "      <td>0.414829</td>\n",
       "      <td>0.225012</td>\n",
       "    </tr>\n",
       "    <tr>\n",
       "      <th>10274</th>\n",
       "      <td>0.465612</td>\n",
       "      <td>0.497636</td>\n",
       "      <td>0.354404</td>\n",
       "    </tr>\n",
       "    <tr>\n",
       "      <th>25305</th>\n",
       "      <td>0.424495</td>\n",
       "      <td>0.316860</td>\n",
       "      <td>0.320244</td>\n",
       "    </tr>\n",
       "    <tr>\n",
       "      <th>21235</th>\n",
       "      <td>0.396235</td>\n",
       "      <td>0.258734</td>\n",
       "      <td>0.275952</td>\n",
       "    </tr>\n",
       "    <tr>\n",
       "      <th>9153</th>\n",
       "      <td>0.314597</td>\n",
       "      <td>0.291631</td>\n",
       "      <td>0.271305</td>\n",
       "    </tr>\n",
       "  </tbody>\n",
       "</table>\n",
       "</div>"
      ],
      "text/plain": [
       "       소비 빈도 및 활동성  소비 금액 및 규모  서비스 이용 다양성\n",
       "33413     0.410004    0.414829    0.225012\n",
       "10274     0.465612    0.497636    0.354404\n",
       "25305     0.424495    0.316860    0.320244\n",
       "21235     0.396235    0.258734    0.275952\n",
       "9153      0.314597    0.291631    0.271305"
      ]
     },
     "metadata": {},
     "output_type": "display_data"
    }
   ],
   "source": [
    "# 대안신용평가 데이터\n",
    "x_train_alter = x_train.iloc[:,:3]\n",
    "x_val_alter = x_val.iloc[:,:3]\n",
    "x_test_alter = x_test.iloc[:,:3]\n",
    "\n",
    "display(x_train_alter.head())\n",
    "display(x_val_alter.head())\n",
    "display(x_test_alter.head())"
   ]
  },
  {
   "cell_type": "code",
   "execution_count": 29,
   "metadata": {},
   "outputs": [
    {
     "data": {
      "text/html": [
       "<div>\n",
       "<style scoped>\n",
       "    .dataframe tbody tr th:only-of-type {\n",
       "        vertical-align: middle;\n",
       "    }\n",
       "\n",
       "    .dataframe tbody tr th {\n",
       "        vertical-align: top;\n",
       "    }\n",
       "\n",
       "    .dataframe thead th {\n",
       "        text-align: right;\n",
       "    }\n",
       "</style>\n",
       "<table border=\"1\" class=\"dataframe\">\n",
       "  <thead>\n",
       "    <tr style=\"text-align: right;\">\n",
       "      <th></th>\n",
       "      <th>소비 빈도 및 활동성</th>\n",
       "      <th>소비 금액 및 규모</th>\n",
       "      <th>서비스 이용 다양성</th>\n",
       "    </tr>\n",
       "  </thead>\n",
       "  <tbody>\n",
       "    <tr>\n",
       "      <th>0</th>\n",
       "      <td>0.384426</td>\n",
       "      <td>0.077502</td>\n",
       "      <td>0.25</td>\n",
       "    </tr>\n",
       "    <tr>\n",
       "      <th>1</th>\n",
       "      <td>0.265004</td>\n",
       "      <td>0.042410</td>\n",
       "      <td>0.25</td>\n",
       "    </tr>\n",
       "    <tr>\n",
       "      <th>2</th>\n",
       "      <td>0.076045</td>\n",
       "      <td>0.038398</td>\n",
       "      <td>0.25</td>\n",
       "    </tr>\n",
       "    <tr>\n",
       "      <th>3</th>\n",
       "      <td>0.119652</td>\n",
       "      <td>0.045946</td>\n",
       "      <td>0.25</td>\n",
       "    </tr>\n",
       "    <tr>\n",
       "      <th>4</th>\n",
       "      <td>0.168577</td>\n",
       "      <td>0.040089</td>\n",
       "      <td>0.25</td>\n",
       "    </tr>\n",
       "  </tbody>\n",
       "</table>\n",
       "</div>"
      ],
      "text/plain": [
       "   소비 빈도 및 활동성  소비 금액 및 규모  서비스 이용 다양성\n",
       "0     0.384426    0.077502        0.25\n",
       "1     0.265004    0.042410        0.25\n",
       "2     0.076045    0.038398        0.25\n",
       "3     0.119652    0.045946        0.25\n",
       "4     0.168577    0.040089        0.25"
      ]
     },
     "metadata": {},
     "output_type": "display_data"
    }
   ],
   "source": [
    "# 신용카드 이용 데이터\n",
    "x_test_credit = x_test_p.iloc[:,:3]\n",
    "display(x_test_credit.head())"
   ]
  },
  {
   "cell_type": "markdown",
   "metadata": {},
   "source": [
    "xgb"
   ]
  },
  {
   "cell_type": "code",
   "execution_count": 30,
   "metadata": {},
   "outputs": [
    {
     "name": "stdout",
     "output_type": "stream",
     "text": [
      "최적의 하이퍼파라미터: {'colsample_bytree': 1.0, 'learning_rate': 0.3, 'max_depth': 3, 'min_child_weight': 3, 'n_estimators': 100, 'subsample': 1.0}\n",
      "최적의 precision 점수: 0.6981941187839484\n",
      "[0]\tvalidation_0-logloss:0.64766\n",
      "[1]\tvalidation_0-logloss:0.62295\n",
      "[2]\tvalidation_0-logloss:0.60729\n",
      "[3]\tvalidation_0-logloss:0.59827\n",
      "[4]\tvalidation_0-logloss:0.59242\n",
      "[5]\tvalidation_0-logloss:0.58874\n",
      "[6]\tvalidation_0-logloss:0.58646\n",
      "[7]\tvalidation_0-logloss:0.58501\n",
      "[8]\tvalidation_0-logloss:0.58385\n",
      "[9]\tvalidation_0-logloss:0.58306\n",
      "[10]\tvalidation_0-logloss:0.58266\n",
      "[11]\tvalidation_0-logloss:0.58237\n",
      "[12]\tvalidation_0-logloss:0.58219\n",
      "[13]\tvalidation_0-logloss:0.58156\n",
      "[14]\tvalidation_0-logloss:0.58107\n",
      "[15]\tvalidation_0-logloss:0.58069\n",
      "[16]\tvalidation_0-logloss:0.58047\n",
      "[17]\tvalidation_0-logloss:0.58035\n",
      "[18]\tvalidation_0-logloss:0.58036\n",
      "[19]\tvalidation_0-logloss:0.58039\n",
      "[20]\tvalidation_0-logloss:0.58035\n",
      "[21]\tvalidation_0-logloss:0.57998\n",
      "[22]\tvalidation_0-logloss:0.57994\n",
      "[23]\tvalidation_0-logloss:0.57978\n",
      "[24]\tvalidation_0-logloss:0.57974\n",
      "[25]\tvalidation_0-logloss:0.57972\n",
      "[26]\tvalidation_0-logloss:0.57940\n",
      "[27]\tvalidation_0-logloss:0.57949\n",
      "[28]\tvalidation_0-logloss:0.57950\n",
      "[29]\tvalidation_0-logloss:0.57950\n",
      "[30]\tvalidation_0-logloss:0.57952\n",
      "[31]\tvalidation_0-logloss:0.57960\n",
      "[32]\tvalidation_0-logloss:0.57967\n",
      "[33]\tvalidation_0-logloss:0.57968\n",
      "[34]\tvalidation_0-logloss:0.57970\n",
      "[35]\tvalidation_0-logloss:0.57978\n",
      "[36]\tvalidation_0-logloss:0.57960\n",
      "[37]\tvalidation_0-logloss:0.57943\n",
      "[38]\tvalidation_0-logloss:0.57941\n",
      "[39]\tvalidation_0-logloss:0.57946\n",
      "[40]\tvalidation_0-logloss:0.57950\n",
      "[41]\tvalidation_0-logloss:0.57948\n",
      "[42]\tvalidation_0-logloss:0.57946\n",
      "[43]\tvalidation_0-logloss:0.57945\n",
      "[44]\tvalidation_0-logloss:0.57935\n",
      "[45]\tvalidation_0-logloss:0.57932\n",
      "[46]\tvalidation_0-logloss:0.57925\n",
      "[47]\tvalidation_0-logloss:0.57930\n",
      "[48]\tvalidation_0-logloss:0.57952\n",
      "[49]\tvalidation_0-logloss:0.57944\n",
      "[50]\tvalidation_0-logloss:0.57939\n",
      "[51]\tvalidation_0-logloss:0.57937\n",
      "[52]\tvalidation_0-logloss:0.57968\n",
      "[53]\tvalidation_0-logloss:0.57967\n",
      "[54]\tvalidation_0-logloss:0.57971\n",
      "[55]\tvalidation_0-logloss:0.57977\n",
      "[56]\tvalidation_0-logloss:0.57995\n",
      "[57]\tvalidation_0-logloss:0.58003\n",
      "[58]\tvalidation_0-logloss:0.58029\n",
      "[59]\tvalidation_0-logloss:0.58042\n",
      "[60]\tvalidation_0-logloss:0.58033\n",
      "[61]\tvalidation_0-logloss:0.58046\n",
      "[62]\tvalidation_0-logloss:0.58031\n",
      "[63]\tvalidation_0-logloss:0.58045\n",
      "[64]\tvalidation_0-logloss:0.58040\n",
      "[65]\tvalidation_0-logloss:0.58054\n",
      "[66]\tvalidation_0-logloss:0.58057\n",
      "[67]\tvalidation_0-logloss:0.58067\n",
      "[68]\tvalidation_0-logloss:0.58084\n",
      "[69]\tvalidation_0-logloss:0.58084\n",
      "[70]\tvalidation_0-logloss:0.58085\n",
      "[71]\tvalidation_0-logloss:0.58090\n",
      "[72]\tvalidation_0-logloss:0.58089\n",
      "[73]\tvalidation_0-logloss:0.58088\n",
      "[74]\tvalidation_0-logloss:0.58090\n",
      "[75]\tvalidation_0-logloss:0.58099\n",
      "[76]\tvalidation_0-logloss:0.58099\n",
      "[77]\tvalidation_0-logloss:0.58110\n",
      "[78]\tvalidation_0-logloss:0.58119\n",
      "[79]\tvalidation_0-logloss:0.58143\n",
      "[80]\tvalidation_0-logloss:0.58155\n",
      "[81]\tvalidation_0-logloss:0.58167\n",
      "[82]\tvalidation_0-logloss:0.58195\n",
      "[83]\tvalidation_0-logloss:0.58199\n",
      "[84]\tvalidation_0-logloss:0.58213\n",
      "[85]\tvalidation_0-logloss:0.58223\n",
      "[86]\tvalidation_0-logloss:0.58217\n",
      "[87]\tvalidation_0-logloss:0.58209\n",
      "[88]\tvalidation_0-logloss:0.58195\n",
      "[89]\tvalidation_0-logloss:0.58204\n",
      "[90]\tvalidation_0-logloss:0.58188\n",
      "[91]\tvalidation_0-logloss:0.58194\n",
      "[92]\tvalidation_0-logloss:0.58193\n",
      "[93]\tvalidation_0-logloss:0.58200\n",
      "[94]\tvalidation_0-logloss:0.58196\n",
      "[95]\tvalidation_0-logloss:0.58197\n",
      "[96]\tvalidation_0-logloss:0.58209\n",
      "[97]\tvalidation_0-logloss:0.58221\n",
      "[98]\tvalidation_0-logloss:0.58202\n",
      "[99]\tvalidation_0-logloss:0.58203\n"
     ]
    }
   ],
   "source": [
    "# 인구통계 제거 xgb\n",
    "xgb_alter_model = xgb_grid_model(x_train_alter, x_val_alter, y_train, y_val)"
   ]
  },
  {
   "cell_type": "code",
   "execution_count": 32,
   "metadata": {},
   "outputs": [
    {
     "name": "stdout",
     "output_type": "stream",
     "text": [
      "Accuracy: 0.684233199310741\n",
      "Precision: 0.6926454445664105\n",
      "Recall: 0.7005273383291701\n",
      "F1-score: 0.6965640954877881\n",
      "ROC AUC: 0.7577056723945622\n"
     ]
    },
    {
     "data": {
      "image/png": "[encoded data removed]",
      "text/plain": [
       "<Figure size 576x360 with 1 Axes>"
      ]
     },
     "metadata": {
      "needs_background": "light"
     },
     "output_type": "display_data"
    },
    {
     "data": {
      "image/png": "[encoded data removed]",
      "text/plain": [
       "<Figure size 576x432 with 2 Axes>"
      ]
     },
     "metadata": {
      "needs_background": "light"
     },
     "output_type": "display_data"
    }
   ],
   "source": [
    "# xgb 대안 평가 데이터\n",
    "y_pred_xgb_alter, y_pred_proba_xgb_alter = evaluate_model(xgb_alter_model,  x_test_alter, y_test)"
   ]
  },
  {
   "cell_type": "code",
   "execution_count": 33,
   "metadata": {},
   "outputs": [
    {
     "name": "stdout",
     "output_type": "stream",
     "text": [
      "Accuracy: 0.7421458333333333\n",
      "Precision: 0.03508771929824561\n",
      "Recall: 3.882150840970926e-05\n",
      "F1-score: 7.75572065186832e-05\n",
      "ROC AUC: 0.5513016217484427\n"
     ]
    },
    {
     "data": {
      "image/png": "[encoded data removed]",
      "text/plain": [
       "<Figure size 576x360 with 1 Axes>"
      ]
     },
     "metadata": {
      "needs_background": "light"
     },
     "output_type": "display_data"
    },
    {
     "data": {
      "image/png": "[encoded data removed]",
      "text/plain": [
       "<Figure size 576x432 with 2 Axes>"
      ]
     },
     "metadata": {
      "needs_background": "light"
     },
     "output_type": "display_data"
    }
   ],
   "source": [
    "# xgb 신용카드 데이터\n",
    "y_pred_xgb_credit, y_pred_proba_xgb_credit = evaluate_model(xgb_alter_model,  x_test_credit, y_test_p)"
   ]
  },
  {
   "cell_type": "markdown",
   "metadata": {},
   "source": [
    "rf모델"
   ]
  },
  {
   "cell_type": "code",
   "execution_count": 35,
   "metadata": {},
   "outputs": [
    {
     "name": "stdout",
     "output_type": "stream",
     "text": [
      "최적의 하이퍼파라미터: {'bootstrap': False, 'max_depth': 10, 'max_features': 'auto', 'min_samples_leaf': 4, 'min_samples_split': 5, 'n_estimators': 200}\n",
      "최적의 AUC 점수: 0.74831193842473\n"
     ]
    }
   ],
   "source": [
    "# rf모델\n",
    "rf_alter_model = rf_grid_model(x_train_alter, y_train)"
   ]
  },
  {
   "cell_type": "code",
   "execution_count": 36,
   "metadata": {},
   "outputs": [
    {
     "name": "stdout",
     "output_type": "stream",
     "text": [
      "Accuracy: 0.6802125215393452\n",
      "Precision: 0.6680508060576453\n",
      "Recall: 0.759089647515959\n",
      "F1-score: 0.7106664934390022\n",
      "ROC AUC: 0.7554317482959712\n"
     ]
    },
    {
     "data": {
      "image/png": "[encoded data removed]",
      "text/plain": [
       "<Figure size 576x360 with 1 Axes>"
      ]
     },
     "metadata": {
      "needs_background": "light"
     },
     "output_type": "display_data"
    },
    {
     "data": {
      "image/png": "[encoded data removed]",
      "text/plain": [
       "<Figure size 576x432 with 2 Axes>"
      ]
     },
     "metadata": {
      "needs_background": "light"
     },
     "output_type": "display_data"
    }
   ],
   "source": [
    "# val 데이터 결과\n",
    "y_pred_rf_alter, y_pred_proba_rf_alter = evaluate_model(rf_alter_model,  x_test_alter, y_test)"
   ]
  },
  {
   "cell_type": "code",
   "execution_count": 37,
   "metadata": {},
   "outputs": [
    {
     "name": "stdout",
     "output_type": "stream",
     "text": [
      "Accuracy: 0.7423533333333333\n",
      "Precision: 0.0273972602739726\n",
      "Recall: 6.47025140161821e-06\n",
      "F1-score: 1.293744744161977e-05\n",
      "ROC AUC: 0.4419536965680821\n"
     ]
    },
    {
     "data": {
      "image/png": "[encoded data removed]",
      "text/plain": [
       "<Figure size 576x360 with 1 Axes>"
      ]
     },
     "metadata": {
      "needs_background": "light"
     },
     "output_type": "display_data"
    },
    {
     "data": {
      "image/png": "[encoded data removed]",
      "text/plain": [
       "<Figure size 576x432 with 2 Axes>"
      ]
     },
     "metadata": {
      "needs_background": "light"
     },
     "output_type": "display_data"
    }
   ],
   "source": [
    "# test 데이터 결과\n",
    "y_pred_rf_credit, y_pred_proba_rf_credit = evaluate_model(rf_alter_model,  x_test_credit, y_test_p)"
   ]
  },
  {
   "cell_type": "code",
   "execution_count": 42,
   "metadata": {},
   "outputs": [],
   "source": [
    "alternative_cls = {\n",
    "    \"서비스 이용 빈도\": [\n",
    "        \"데이터 사용량\",\n",
    "        \"동영상/방송 서비스 사용일수\",\n",
    "        \"게임 서비스 사용일수\",\n",
    "        \"SNS 사용횟수\",\n",
    "        \"배달 서비스 사용일수\",\n",
    "        \"유튜브 사용일수\",\n",
    "        \"금융 서비스 사용일수\"\n",
    "    ],\n",
    "    \"카드 보유 및 사용 정보\": [\n",
    "        \"금융 서비스 사용일수\"\n",
    "    ]\n",
    "}\n",
    "\n",
    "# credit_cls = {\n",
    "#     \"카드 보유 및 사용 정보\": [\n",
    "#         \"소지여부_신용\",\n",
    "#         \"유효카드수_신용\",\n",
    "#         \"유효카드수_체크\",\n",
    "#         \"이용가능카드수_신용\",\n",
    "#         \"이용가능카드수_체크\",\n",
    "#         \"이용카드수_신용\",\n",
    "#         \"이용거절여부_카드론\"\n",
    "#     ],\n",
    "#     \"서비스 이용 빈도\": [\n",
    "#         \"이용금액_R3M_신용\",\n",
    "#         \"이용금액_R3M_체크\",\n",
    "#         \"이용건수_R3M\",\n",
    "#         \"청구금액_B0\"\n",
    "#     ]\n",
    "# }"
   ]
  },
  {
   "cell_type": "markdown",
   "metadata": {},
   "source": [
    "### 상관관계 있는 칼럼"
   ]
  },
  {
   "cell_type": "code",
   "execution_count": 43,
   "metadata": {},
   "outputs": [
    {
     "data": {
      "text/html": [
       "<div>\n",
       "<style scoped>\n",
       "    .dataframe tbody tr th:only-of-type {\n",
       "        vertical-align: middle;\n",
       "    }\n",
       "\n",
       "    .dataframe tbody tr th {\n",
       "        vertical-align: top;\n",
       "    }\n",
       "\n",
       "    .dataframe thead th {\n",
       "        text-align: right;\n",
       "    }\n",
       "</style>\n",
       "<table border=\"1\" class=\"dataframe\">\n",
       "  <thead>\n",
       "    <tr style=\"text-align: right;\">\n",
       "      <th></th>\n",
       "      <th>서비스 이용 빈도</th>\n",
       "      <th>카드 보유 및 사용 정보</th>\n",
       "      <th>남성</th>\n",
       "      <th>여성</th>\n",
       "      <th>20대</th>\n",
       "      <th>30대</th>\n",
       "      <th>40대</th>\n",
       "      <th>50대</th>\n",
       "      <th>60대</th>\n",
       "      <th>70대</th>\n",
       "      <th>연체여부</th>\n",
       "    </tr>\n",
       "  </thead>\n",
       "  <tbody>\n",
       "    <tr>\n",
       "      <th>0</th>\n",
       "      <td>0.700691</td>\n",
       "      <td>0.708651</td>\n",
       "      <td>1</td>\n",
       "      <td>0</td>\n",
       "      <td>1</td>\n",
       "      <td>0</td>\n",
       "      <td>0</td>\n",
       "      <td>0</td>\n",
       "      <td>0</td>\n",
       "      <td>0</td>\n",
       "      <td>1</td>\n",
       "    </tr>\n",
       "    <tr>\n",
       "      <th>1</th>\n",
       "      <td>0.669635</td>\n",
       "      <td>0.712892</td>\n",
       "      <td>1</td>\n",
       "      <td>0</td>\n",
       "      <td>0</td>\n",
       "      <td>1</td>\n",
       "      <td>0</td>\n",
       "      <td>0</td>\n",
       "      <td>0</td>\n",
       "      <td>0</td>\n",
       "      <td>1</td>\n",
       "    </tr>\n",
       "    <tr>\n",
       "      <th>2</th>\n",
       "      <td>0.600108</td>\n",
       "      <td>0.695505</td>\n",
       "      <td>1</td>\n",
       "      <td>0</td>\n",
       "      <td>0</td>\n",
       "      <td>1</td>\n",
       "      <td>0</td>\n",
       "      <td>0</td>\n",
       "      <td>0</td>\n",
       "      <td>0</td>\n",
       "      <td>1</td>\n",
       "    </tr>\n",
       "    <tr>\n",
       "      <th>3</th>\n",
       "      <td>0.548711</td>\n",
       "      <td>0.716709</td>\n",
       "      <td>1</td>\n",
       "      <td>0</td>\n",
       "      <td>0</td>\n",
       "      <td>0</td>\n",
       "      <td>1</td>\n",
       "      <td>0</td>\n",
       "      <td>0</td>\n",
       "      <td>0</td>\n",
       "      <td>0</td>\n",
       "    </tr>\n",
       "    <tr>\n",
       "      <th>4</th>\n",
       "      <td>0.534758</td>\n",
       "      <td>0.621289</td>\n",
       "      <td>1</td>\n",
       "      <td>0</td>\n",
       "      <td>0</td>\n",
       "      <td>0</td>\n",
       "      <td>1</td>\n",
       "      <td>0</td>\n",
       "      <td>0</td>\n",
       "      <td>0</td>\n",
       "      <td>0</td>\n",
       "    </tr>\n",
       "  </tbody>\n",
       "</table>\n",
       "</div>"
      ],
      "text/plain": [
       "   서비스 이용 빈도  카드 보유 및 사용 정보  남성  여성  20대  30대  40대  50대  60대  70대  연체여부\n",
       "0   0.700691       0.708651   1   0    1    0    0    0    0    0     1\n",
       "1   0.669635       0.712892   1   0    0    1    0    0    0    0     1\n",
       "2   0.600108       0.695505   1   0    0    1    0    0    0    0     1\n",
       "3   0.548711       0.716709   1   0    0    0    1    0    0    0     0\n",
       "4   0.534758       0.621289   1   0    0    0    1    0    0    0     0"
      ]
     },
     "metadata": {},
     "output_type": "display_data"
    }
   ],
   "source": [
    "alter_cls = create_core_features(alter_out, alternative_cls, mscaler).reset_index(drop=True)\n",
    "alter_reindex = alter_out.reset_index(drop=True)\n",
    "\n",
    "# 결합 시도\n",
    "alter_minmax_cls = pd.concat([alter_cls, alter_reindex.iloc[:,15:]], axis=1)\n",
    "\n",
    "# 결과 확인\n",
    "display(alter_minmax_cls.head())"
   ]
  },
  {
   "cell_type": "code",
   "execution_count": 62,
   "metadata": {},
   "outputs": [],
   "source": [
    "credit_minmax_cls = pd.read_csv('../alternative_data/corr_credit.csv')\n",
    "credit_minmax_cls.rename(columns={'회원여부_연체':'연체여부'}, inplace=True)\n",
    "\n",
    "x_test_p = credit_minmax_cls.drop(['연체여부'],axis=1)\n",
    "x_test_p.insert(0, \"서비스 이용 빈도\", x_test_p.pop(\"서비스 이용 빈도\"))\n",
    "y_test_p = credit_minmax_cls['연체여부']\n",
    "\n",
    "credit_minmax_cls.head()"
   ]
  },
  {
   "cell_type": "code",
   "execution_count": 50,
   "metadata": {},
   "outputs": [
    {
     "name": "stdout",
     "output_type": "stream",
     "text": [
      "최적의 하이퍼파라미터: {'colsample_bytree': 0.8, 'learning_rate': 0.3, 'max_depth': 3, 'min_child_weight': 3, 'n_estimators': 100, 'subsample': 1.0}\n",
      "최적의 precision 점수: 0.7634010724124959\n",
      "[0]\tvalidation_0-logloss:0.66045\n",
      "[1]\tvalidation_0-logloss:0.64277\n",
      "[2]\tvalidation_0-logloss:0.62556\n",
      "[3]\tvalidation_0-logloss:0.61460\n",
      "[4]\tvalidation_0-logloss:0.60070\n",
      "[5]\tvalidation_0-logloss:0.59395\n",
      "[6]\tvalidation_0-logloss:0.58610\n",
      "[7]\tvalidation_0-logloss:0.57908\n",
      "[8]\tvalidation_0-logloss:0.57360\n",
      "[9]\tvalidation_0-logloss:0.57230\n",
      "[10]\tvalidation_0-logloss:0.57049\n",
      "[11]\tvalidation_0-logloss:0.56562\n",
      "[12]\tvalidation_0-logloss:0.56235\n",
      "[13]\tvalidation_0-logloss:0.56040\n",
      "[14]\tvalidation_0-logloss:0.55802\n",
      "[15]\tvalidation_0-logloss:0.55309\n",
      "[16]\tvalidation_0-logloss:0.55213\n",
      "[17]\tvalidation_0-logloss:0.55136\n",
      "[18]\tvalidation_0-logloss:0.54776\n",
      "[19]\tvalidation_0-logloss:0.54580\n",
      "[20]\tvalidation_0-logloss:0.54300\n",
      "[21]\tvalidation_0-logloss:0.54161\n",
      "[22]\tvalidation_0-logloss:0.54086\n",
      "[23]\tvalidation_0-logloss:0.53999\n",
      "[24]\tvalidation_0-logloss:0.53891\n",
      "[25]\tvalidation_0-logloss:0.53687\n",
      "[26]\tvalidation_0-logloss:0.53502\n",
      "[27]\tvalidation_0-logloss:0.53317\n",
      "[28]\tvalidation_0-logloss:0.53164\n",
      "[29]\tvalidation_0-logloss:0.53120\n",
      "[30]\tvalidation_0-logloss:0.53072\n",
      "[31]\tvalidation_0-logloss:0.52897\n",
      "[32]\tvalidation_0-logloss:0.52802\n",
      "[33]\tvalidation_0-logloss:0.52731\n",
      "[34]\tvalidation_0-logloss:0.52654\n",
      "[35]\tvalidation_0-logloss:0.52566\n",
      "[36]\tvalidation_0-logloss:0.52519\n",
      "[37]\tvalidation_0-logloss:0.52488\n",
      "[38]\tvalidation_0-logloss:0.52412\n",
      "[39]\tvalidation_0-logloss:0.52390\n",
      "[40]\tvalidation_0-logloss:0.52364\n",
      "[41]\tvalidation_0-logloss:0.52271\n",
      "[42]\tvalidation_0-logloss:0.52199\n",
      "[43]\tvalidation_0-logloss:0.52146\n",
      "[44]\tvalidation_0-logloss:0.52118\n",
      "[45]\tvalidation_0-logloss:0.52075\n",
      "[46]\tvalidation_0-logloss:0.52033\n",
      "[47]\tvalidation_0-logloss:0.51982\n",
      "[48]\tvalidation_0-logloss:0.51894\n",
      "[49]\tvalidation_0-logloss:0.51858\n",
      "[50]\tvalidation_0-logloss:0.51845\n",
      "[51]\tvalidation_0-logloss:0.51835\n",
      "[52]\tvalidation_0-logloss:0.51793\n",
      "[53]\tvalidation_0-logloss:0.51777\n",
      "[54]\tvalidation_0-logloss:0.51738\n",
      "[55]\tvalidation_0-logloss:0.51717\n",
      "[56]\tvalidation_0-logloss:0.51673\n",
      "[57]\tvalidation_0-logloss:0.51658\n",
      "[58]\tvalidation_0-logloss:0.51628\n",
      "[59]\tvalidation_0-logloss:0.51568\n",
      "[60]\tvalidation_0-logloss:0.51567\n",
      "[61]\tvalidation_0-logloss:0.51570\n",
      "[62]\tvalidation_0-logloss:0.51548\n",
      "[63]\tvalidation_0-logloss:0.51568\n",
      "[64]\tvalidation_0-logloss:0.51513\n",
      "[65]\tvalidation_0-logloss:0.51488\n",
      "[66]\tvalidation_0-logloss:0.51491\n",
      "[67]\tvalidation_0-logloss:0.51479\n",
      "[68]\tvalidation_0-logloss:0.51441\n",
      "[69]\tvalidation_0-logloss:0.51420\n",
      "[70]\tvalidation_0-logloss:0.51410\n",
      "[71]\tvalidation_0-logloss:0.51364\n",
      "[72]\tvalidation_0-logloss:0.51348\n",
      "[73]\tvalidation_0-logloss:0.51337\n",
      "[74]\tvalidation_0-logloss:0.51326\n",
      "[75]\tvalidation_0-logloss:0.51312\n",
      "[76]\tvalidation_0-logloss:0.51295\n",
      "[77]\tvalidation_0-logloss:0.51266\n",
      "[78]\tvalidation_0-logloss:0.51276\n",
      "[79]\tvalidation_0-logloss:0.51275\n",
      "[80]\tvalidation_0-logloss:0.51259\n",
      "[81]\tvalidation_0-logloss:0.51219\n",
      "[82]\tvalidation_0-logloss:0.51175\n",
      "[83]\tvalidation_0-logloss:0.51177\n",
      "[84]\tvalidation_0-logloss:0.51187\n",
      "[85]\tvalidation_0-logloss:0.51156\n",
      "[86]\tvalidation_0-logloss:0.51165\n",
      "[87]\tvalidation_0-logloss:0.51179\n",
      "[88]\tvalidation_0-logloss:0.51156\n",
      "[89]\tvalidation_0-logloss:0.51134\n",
      "[90]\tvalidation_0-logloss:0.51133\n",
      "[91]\tvalidation_0-logloss:0.51108\n",
      "[92]\tvalidation_0-logloss:0.51098\n",
      "[93]\tvalidation_0-logloss:0.51089\n",
      "[94]\tvalidation_0-logloss:0.51089\n",
      "[95]\tvalidation_0-logloss:0.51100\n",
      "[96]\tvalidation_0-logloss:0.51092\n",
      "[97]\tvalidation_0-logloss:0.51081\n",
      "[98]\tvalidation_0-logloss:0.51082\n",
      "[99]\tvalidation_0-logloss:0.51085\n"
     ]
    }
   ],
   "source": [
    "# corr\n",
    "x_train, x_val, x_test, y_train, y_val, y_test = data_split(alter_minmax_cls)\n",
    "xgb_corr_model = xgb_grid_model(x_train,x_val,y_train,y_val)"
   ]
  },
  {
   "cell_type": "code",
   "execution_count": 51,
   "metadata": {},
   "outputs": [
    {
     "name": "stdout",
     "output_type": "stream",
     "text": [
      "Accuracy: 0.7454049396898335\n",
      "Precision: 0.7513736263736264\n",
      "Recall: 0.759089647515959\n",
      "F1-score: 0.7552119287588017\n",
      "ROC AUC: 0.8256084407824713\n"
     ]
    },
    {
     "data": {
      "image/png": "[encoded data removed]",
      "text/plain": [
       "<Figure size 576x360 with 1 Axes>"
      ]
     },
     "metadata": {
      "needs_background": "light"
     },
     "output_type": "display_data"
    },
    {
     "data": {
      "image/png": "[encoded data removed]",
      "text/plain": [
       "<Figure size 576x432 with 2 Axes>"
      ]
     },
     "metadata": {
      "needs_background": "light"
     },
     "output_type": "display_data"
    },
    {
     "data": {
      "text/plain": [
       "(array([0, 0, 0, ..., 1, 0, 1]),\n",
       " array([[0.54287374, 0.45712626],\n",
       "        [0.82406956, 0.17593043],\n",
       "        [0.82427406, 0.17572595],\n",
       "        ...,\n",
       "        [0.20688105, 0.79311895],\n",
       "        [0.9482731 , 0.05172689],\n",
       "        [0.24355787, 0.7564421 ]], dtype=float32))"
      ]
     },
     "execution_count": 51,
     "metadata": {},
     "output_type": "execute_result"
    }
   ],
   "source": [
    "evaluate_model(xgb_corr_model, x_test, y_test)"
   ]
  },
  {
   "cell_type": "code",
   "execution_count": 65,
   "metadata": {},
   "outputs": [
    {
     "name": "stdout",
     "output_type": "stream",
     "text": [
      "Accuracy: 0.7359633333333333\n",
      "Precision: 0.16074717179689554\n",
      "Recall: 0.005929985409583089\n",
      "F1-score: 0.01143802065458176\n",
      "ROC AUC: 0.4897676716240701\n"
     ]
    },
    {
     "data": {
      "image/png": "[encoded data removed]",
      "text/plain": [
       "<Figure size 576x360 with 1 Axes>"
      ]
     },
     "metadata": {
      "needs_background": "light"
     },
     "output_type": "display_data"
    },
    {
     "data": {
      "image/png": "[encoded data removed]",
      "text/plain": [
       "<Figure size 576x432 with 2 Axes>"
      ]
     },
     "metadata": {
      "needs_background": "light"
     },
     "output_type": "display_data"
    },
    {
     "data": {
      "text/plain": [
       "(array([0, 0, 0, ..., 0, 0, 0]),\n",
       " array([[9.9957651e-01, 4.2349135e-04],\n",
       "        [9.9848914e-01, 1.5108817e-03],\n",
       "        [8.1118441e-01, 1.8881558e-01],\n",
       "        ...,\n",
       "        [9.6600187e-01, 3.3998132e-02],\n",
       "        [9.8567659e-01, 1.4323405e-02],\n",
       "        [9.5402831e-01, 4.5971710e-02]], dtype=float32))"
      ]
     },
     "execution_count": 65,
     "metadata": {},
     "output_type": "execute_result"
    }
   ],
   "source": [
    "evaluate_model(xgb_corr_model, x_test_p, y_test_p)"
   ]
  },
  {
   "cell_type": "code",
   "execution_count": 67,
   "metadata": {},
   "outputs": [
    {
     "name": "stdout",
     "output_type": "stream",
     "text": [
      "최적의 하이퍼파라미터: {'bootstrap': False, 'max_depth': 10, 'max_features': 'auto', 'min_samples_leaf': 2, 'min_samples_split': 5, 'n_estimators': 100}\n",
      "최적의 AUC 점수: 0.8076235985951444\n"
     ]
    }
   ],
   "source": [
    "rf_corr_model = rf_grid_model(x_train,y_train)"
   ]
  },
  {
   "cell_type": "code",
   "execution_count": 68,
   "metadata": {},
   "outputs": [
    {
     "name": "stdout",
     "output_type": "stream",
     "text": [
      "Accuracy: 0.7383687535898908\n",
      "Precision: 0.7250442254233005\n",
      "Recall: 0.7962808770469053\n",
      "F1-score: 0.758994708994709\n",
      "ROC AUC: 0.8173415026636123\n"
     ]
    },
    {
     "data": {
      "image/png": "[encoded data removed]",
      "text/plain": [
       "<Figure size 576x360 with 1 Axes>"
      ]
     },
     "metadata": {
      "needs_background": "light"
     },
     "output_type": "display_data"
    },
    {
     "data": {
      "image/png": "[encoded data removed]",
      "text/plain": [
       "<Figure size 576x432 with 2 Axes>"
      ]
     },
     "metadata": {
      "needs_background": "light"
     },
     "output_type": "display_data"
    },
    {
     "data": {
      "text/plain": [
       "(array([0, 0, 0, ..., 1, 0, 1], dtype=int64),\n",
       " array([[0.56387149, 0.43612851],\n",
       "        [0.74468458, 0.25531542],\n",
       "        [0.83811444, 0.16188556],\n",
       "        ...,\n",
       "        [0.16962852, 0.83037148],\n",
       "        [0.9537651 , 0.0462349 ],\n",
       "        [0.236036  , 0.763964  ]]))"
      ]
     },
     "execution_count": 68,
     "metadata": {},
     "output_type": "execute_result"
    }
   ],
   "source": [
    "evaluate_model(rf_corr_model, x_test, y_test)"
   ]
  },
  {
   "cell_type": "code",
   "execution_count": 69,
   "metadata": {},
   "outputs": [
    {
     "name": "stdout",
     "output_type": "stream",
     "text": [
      "Accuracy: 0.72977\n",
      "Precision: 0.15286740811936472\n",
      "Recall: 0.010805319840702411\n",
      "F1-score: 0.02018395194527369\n",
      "ROC AUC: 0.48169825894902124\n"
     ]
    },
    {
     "data": {
      "image/png": "[encoded data removed]",
      "text/plain": [
       "<Figure size 576x360 with 1 Axes>"
      ]
     },
     "metadata": {
      "needs_background": "light"
     },
     "output_type": "display_data"
    },
    {
     "data": {
      "image/png": "[encoded data removed]",
      "text/plain": [
       "<Figure size 576x432 with 2 Axes>"
      ]
     },
     "metadata": {
      "needs_background": "light"
     },
     "output_type": "display_data"
    },
    {
     "data": {
      "text/plain": [
       "(array([0, 0, 0, ..., 0, 0, 0], dtype=int64),\n",
       " array([[0.86460945, 0.13539055],\n",
       "        [0.76416818, 0.23583182],\n",
       "        [0.6218076 , 0.3781924 ],\n",
       "        ...,\n",
       "        [0.77213307, 0.22786693],\n",
       "        [0.82355201, 0.17644799],\n",
       "        [0.72499633, 0.27500367]]))"
      ]
     },
     "execution_count": 69,
     "metadata": {},
     "output_type": "execute_result"
    }
   ],
   "source": [
    "evaluate_model(rf_corr_model, x_test_p, y_test_p)"
   ]
  }
 ],
 "metadata": {
  "kernelspec": {
   "display_name": "study",
   "language": "python",
   "name": "python3"
  },
  "language_info": {
   "codemirror_mode": {
    "name": "ipython",
    "version": 3
   },
   "file_extension": ".py",
   "mimetype": "text/x-python",
   "name": "python",
   "nbconvert_exporter": "python",
   "pygments_lexer": "ipython3",
   "version": "3.9.12"
  }
 },
 "nbformat": 4,
 "nbformat_minor": 2
}
